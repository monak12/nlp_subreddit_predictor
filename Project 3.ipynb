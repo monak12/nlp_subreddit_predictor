{
 "cells": [
  {
   "cell_type": "markdown",
   "id": "90529b83",
   "metadata": {},
   "source": [
    "# PROJECT 3: Webscraping, APIs, and NLP"
   ]
  },
  {
   "cell_type": "markdown",
   "id": "b2ff94cb",
   "metadata": {},
   "source": [
    "### Problem Statement: What Factors Influence a Model's Ability to Make Accurate Predictions? "
   ]
  },
  {
   "cell_type": "markdown",
   "id": "bbca4549",
   "metadata": {},
   "source": [
    "### Imports "
   ]
  },
  {
   "cell_type": "code",
   "execution_count": 900,
   "id": "a740487a",
   "metadata": {},
   "outputs": [],
   "source": [
    "import pandas as pd\n",
    "import numpy as np\n",
    "import requests\n",
    "import time\n",
    "import seaborn as sns\n",
    "import matplotlib.pyplot as plt\n",
    "\n",
    "from nltk.tokenize import sent_tokenize, word_tokenize, RegexpTokenizer\n",
    "from nltk.stem import WordNetLemmatizer\n",
    "from nltk.stem.porter import PorterStemmer\n",
    "from nltk.corpus import stopwords\n",
    "from nltk.sentiment.vader import SentimentIntensityAnalyzer\n",
    "import re\n",
    "\n",
    "\n",
    "from sklearn.linear_model import LogisticRegression\n",
    "from sklearn.feature_extraction.text import CountVectorizer\n",
    "from sklearn.pipeline import Pipeline \n",
    "from sklearn.model_selection import train_test_split, GridSearchCV, cross_val_score\n",
    "from sklearn.metrics import plot_confusion_matrix, confusion_matrix\n",
    "\n",
    "from sklearn.ensemble import RandomForestClassifier, ExtraTreesClassifier\n",
    "\n",
    "pd.options.display.max_colwidth = 400"
   ]
  },
  {
   "cell_type": "markdown",
   "id": "e1ef2ec6",
   "metadata": {},
   "source": [
    "### READING IN SUBREDDIT DATA"
   ]
  },
  {
   "cell_type": "code",
   "execution_count": 901,
   "id": "bffabda1",
   "metadata": {},
   "outputs": [],
   "source": [
    "df = pd.read_csv('data/subreddits.csv')"
   ]
  },
  {
   "cell_type": "code",
   "execution_count": 902,
   "id": "db3d2bd7",
   "metadata": {},
   "outputs": [],
   "source": [
    "# Creating dataframe with columns needed \n",
    "df = df[['subreddit','title', 'selftext']]"
   ]
  },
  {
   "cell_type": "code",
   "execution_count": 903,
   "id": "1457d0a6",
   "metadata": {},
   "outputs": [
    {
     "data": {
      "text/html": [
       "<div>\n",
       "<style scoped>\n",
       "    .dataframe tbody tr th:only-of-type {\n",
       "        vertical-align: middle;\n",
       "    }\n",
       "\n",
       "    .dataframe tbody tr th {\n",
       "        vertical-align: top;\n",
       "    }\n",
       "\n",
       "    .dataframe thead th {\n",
       "        text-align: right;\n",
       "    }\n",
       "</style>\n",
       "<table border=\"1\" class=\"dataframe\">\n",
       "  <thead>\n",
       "    <tr style=\"text-align: right;\">\n",
       "      <th></th>\n",
       "      <th>subreddit</th>\n",
       "      <th>title</th>\n",
       "      <th>selftext</th>\n",
       "    </tr>\n",
       "  </thead>\n",
       "  <tbody>\n",
       "    <tr>\n",
       "      <th>0</th>\n",
       "      <td>Jokes</td>\n",
       "      <td>What’s the difference between a potato fresh out of the oven and a pig thrown off a balcony?</td>\n",
       "      <td>One is a heated yam and the other is a yeeted ham.</td>\n",
       "    </tr>\n",
       "    <tr>\n",
       "      <th>1</th>\n",
       "      <td>Jokes</td>\n",
       "      <td>What state has the rudest IT people?</td>\n",
       "      <td>TechSAS</td>\n",
       "    </tr>\n",
       "    <tr>\n",
       "      <th>2</th>\n",
       "      <td>Jokes</td>\n",
       "      <td>\u001a The first ever \u001a Gaming and \u001a\u001a NFT $Elite Forces to host a $50,000 Warzone Tournament! Join now before it is too late! Whitelist for presale available! \u001a</td>\n",
       "      <td>[removed]</td>\n",
       "    </tr>\n",
       "    <tr>\n",
       "      <th>3</th>\n",
       "      <td>Jokes</td>\n",
       "      <td>What's the worst part about Ad Blockers?</td>\n",
       "      <td>Suddenly, there's no more hot moms in my area who want to meet up anymore</td>\n",
       "    </tr>\n",
       "    <tr>\n",
       "      <th>4</th>\n",
       "      <td>Jokes</td>\n",
       "      <td>Got this from a coworker. If you’re in a locked room with noting but a saw and a table, how do you escape?</td>\n",
       "      <td>Take the saw, cut the table in half, 2 halves make a whole, now you got a “whole” so you crawl through it and escape.</td>\n",
       "    </tr>\n",
       "    <tr>\n",
       "      <th>5</th>\n",
       "      <td>Jokes</td>\n",
       "      <td>My wife said she wanted 12 inches and make it hurt...</td>\n",
       "      <td>I stuck a metal ruler in there twice and it still wasnt enough...</td>\n",
       "    </tr>\n",
       "    <tr>\n",
       "      <th>6</th>\n",
       "      <td>Jokes</td>\n",
       "      <td>Why is it generally a bad idea to marry chess pieces?</td>\n",
       "      <td>Well many would think of it as a Rook-ie mistake</td>\n",
       "    </tr>\n",
       "    <tr>\n",
       "      <th>7</th>\n",
       "      <td>Jokes</td>\n",
       "      <td>Mathematics of marriage 😅</td>\n",
       "      <td>[removed]</td>\n",
       "    </tr>\n",
       "    <tr>\n",
       "      <th>8</th>\n",
       "      <td>Jokes</td>\n",
       "      <td>Optical Reaction</td>\n",
       "      <td>\"In my case,\" said the student to the sex researcher, \"when I get it part of the way in, my vision blurs. And when it's all the way in, I can't see a thing.\" \"Now, that's an most interesting optical reaction,\" said the researcher. \"It may well have anatomical as well as physiological basis. If you don't mind, young man, I'd like to have a look at it.\"\\n\\nSo, the student shrugged and stuck out ...</td>\n",
       "    </tr>\n",
       "    <tr>\n",
       "      <th>9</th>\n",
       "      <td>Jokes</td>\n",
       "      <td>\u001a The first ever \u001a Gaming and \u001a\u001a NFT $Elite Forces to host a $50,000 Warzone Tournament! Join now before it is too late! Whitelist for presale available! \u001a</td>\n",
       "      <td>[removed]</td>\n",
       "    </tr>\n",
       "    <tr>\n",
       "      <th>10</th>\n",
       "      <td>Jokes</td>\n",
       "      <td>Joke 😂</td>\n",
       "      <td>[removed]</td>\n",
       "    </tr>\n",
       "    <tr>\n",
       "      <th>11</th>\n",
       "      <td>Jokes</td>\n",
       "      <td>My girlfriend said “Give me 8 inches and make it hurt”</td>\n",
       "      <td>So I fucked her twice and punched her in the face.</td>\n",
       "    </tr>\n",
       "    <tr>\n",
       "      <th>12</th>\n",
       "      <td>Jokes</td>\n",
       "      <td>My wife is having a baby with another man, she says it's a grudge baby...</td>\n",
       "      <td>\\n... Someone had it in for me.</td>\n",
       "    </tr>\n",
       "    <tr>\n",
       "      <th>13</th>\n",
       "      <td>Jokes</td>\n",
       "      <td>What do you get when you put air conditioning in Washington D.C</td>\n",
       "      <td>A.C.D.C</td>\n",
       "    </tr>\n",
       "    <tr>\n",
       "      <th>14</th>\n",
       "      <td>Jokes</td>\n",
       "      <td>What do giants and strippers both have in common?</td>\n",
       "      <td>They both grind men’s bones to make their bread.</td>\n",
       "    </tr>\n",
       "    <tr>\n",
       "      <th>15</th>\n",
       "      <td>Jokes</td>\n",
       "      <td>Couples vacation</td>\n",
       "      <td>A couple is going on vacation to Florida, and for one reason or another the husband has to fly down a day early. When he gets there he goes to a computer in the hotel lobby to email his wife and let her know he made it safely. When sending the email he typed her address one letter wrong and the email ended up going to a recently widowed woman.  That night the woman sat down at her computer and...</td>\n",
       "    </tr>\n",
       "    <tr>\n",
       "      <th>16</th>\n",
       "      <td>Jokes</td>\n",
       "      <td>Why do people like to stand in doorways?</td>\n",
       "      <td>Because it's a super position.</td>\n",
       "    </tr>\n",
       "    <tr>\n",
       "      <th>17</th>\n",
       "      <td>Jokes</td>\n",
       "      <td>What do you call a masturbating cow?</td>\n",
       "      <td>Beef stroganoff!</td>\n",
       "    </tr>\n",
       "    <tr>\n",
       "      <th>18</th>\n",
       "      <td>Jokes</td>\n",
       "      <td>Coochycoo Pandas NFT || Preparing For Takeoff!!</td>\n",
       "      <td>[removed]</td>\n",
       "    </tr>\n",
       "    <tr>\n",
       "      <th>19</th>\n",
       "      <td>Jokes</td>\n",
       "      <td>\u001a The first ever \u001a Gaming and \u001a\u001a NFT $Elite Forces to host a $50,000 Warzone Tournament! Join now before it is too late! Whitelist for presale available! \u001a</td>\n",
       "      <td>[removed]</td>\n",
       "    </tr>\n",
       "    <tr>\n",
       "      <th>20</th>\n",
       "      <td>Jokes</td>\n",
       "      <td>My wife said she wanted 9 inches and wanted it to hurt...</td>\n",
       "      <td>so I fucked her twice and broke her jaw.</td>\n",
       "    </tr>\n",
       "    <tr>\n",
       "      <th>21</th>\n",
       "      <td>Jokes</td>\n",
       "      <td>A New Yorker Asks for a Cab Ride to Chicago</td>\n",
       "      <td>A man gets in a cab at 33rd St. and Park Ave. and says, \"I need to get to the Palmer House.\"\\n\\nThe cabbie says, \"The Palmer House Hotel?\"\\n\\nThe man says, \"Yeah.\"\\n\\nThe cabbie says, \"That's on Wabash in Chicago.\"\\n\\nThe man says, \"Yeah.\"\\n\\nThe cabbie says, \"I'm not gonna drive you to Chicago. I'll take you to LaGuardia, you can get on a plane.\"\\n\\nThe man says, \"No, I can't do that, I've go...</td>\n",
       "    </tr>\n",
       "    <tr>\n",
       "      <th>22</th>\n",
       "      <td>Jokes</td>\n",
       "      <td>Would a Local Area Network in Australia, be considered a LAN down under?</td>\n",
       "      <td>[removed]</td>\n",
       "    </tr>\n",
       "    <tr>\n",
       "      <th>23</th>\n",
       "      <td>Jokes</td>\n",
       "      <td>As a young sailor we were sitting around talking about what our parents do for a living one guy exclaimed, “My Dad works for the post office but my Moms a Hydroceramic Engineer”, we all oohed and aahed…</td>\n",
       "      <td>“She’s a dishwasher”</td>\n",
       "    </tr>\n",
       "    <tr>\n",
       "      <th>24</th>\n",
       "      <td>Jokes</td>\n",
       "      <td>A joke about 50 Cent</td>\n",
       "      <td>I might have capied this from somewhere, Who Gnows???\\n\\n50 Cent is on a world wide tour and is playing his first gig in Ballarat. The place is absolutely packed to the rafters. In a bid to break the ice with his new audience he asks if anyone would like him to play a request. A little old Australian man jumps out of his front row seat and shouts \"Play Indie Club! Play Indie Club!\"\\n\\nAmazed t...</td>\n",
       "    </tr>\n",
       "  </tbody>\n",
       "</table>\n",
       "</div>"
      ],
      "text/plain": [
       "   subreddit  \\\n",
       "0      Jokes   \n",
       "1      Jokes   \n",
       "2      Jokes   \n",
       "3      Jokes   \n",
       "4      Jokes   \n",
       "5      Jokes   \n",
       "6      Jokes   \n",
       "7      Jokes   \n",
       "8      Jokes   \n",
       "9      Jokes   \n",
       "10     Jokes   \n",
       "11     Jokes   \n",
       "12     Jokes   \n",
       "13     Jokes   \n",
       "14     Jokes   \n",
       "15     Jokes   \n",
       "16     Jokes   \n",
       "17     Jokes   \n",
       "18     Jokes   \n",
       "19     Jokes   \n",
       "20     Jokes   \n",
       "21     Jokes   \n",
       "22     Jokes   \n",
       "23     Jokes   \n",
       "24     Jokes   \n",
       "\n",
       "                                                                                                                                                                                                         title  \\\n",
       "0                                                                                                                 What’s the difference between a potato fresh out of the oven and a pig thrown off a balcony?   \n",
       "1                                                                                                                                                                         What state has the rudest IT people?   \n",
       "2                                                  \u001a The first ever \u001a Gaming and \u001a\u001a NFT $Elite Forces to host a $50,000 Warzone Tournament! Join now before it is too late! Whitelist for presale available! \u001a   \n",
       "3                                                                                                                                                                     What's the worst part about Ad Blockers?   \n",
       "4                                                                                                   Got this from a coworker. If you’re in a locked room with noting but a saw and a table, how do you escape?   \n",
       "5                                                                                                                                                        My wife said she wanted 12 inches and make it hurt...   \n",
       "6                                                                                                                                                        Why is it generally a bad idea to marry chess pieces?   \n",
       "7                                                                                                                                                                                    Mathematics of marriage 😅   \n",
       "8                                                                                                                                                                                             Optical Reaction   \n",
       "9                                                  \u001a The first ever \u001a Gaming and \u001a\u001a NFT $Elite Forces to host a $50,000 Warzone Tournament! Join now before it is too late! Whitelist for presale available! \u001a   \n",
       "10                                                                                                                                                                                                      Joke 😂   \n",
       "11                                                                                                                                                      My girlfriend said “Give me 8 inches and make it hurt”   \n",
       "12                                                                                                                                   My wife is having a baby with another man, she says it's a grudge baby...   \n",
       "13                                                                                                                                             What do you get when you put air conditioning in Washington D.C   \n",
       "14                                                                                                                                                           What do giants and strippers both have in common?   \n",
       "15                                                                                                                                                                                            Couples vacation   \n",
       "16                                                                                                                                                                    Why do people like to stand in doorways?   \n",
       "17                                                                                                                                                                        What do you call a masturbating cow?   \n",
       "18                                                                                                                                                             Coochycoo Pandas NFT || Preparing For Takeoff!!   \n",
       "19                                                 \u001a The first ever \u001a Gaming and \u001a\u001a NFT $Elite Forces to host a $50,000 Warzone Tournament! Join now before it is too late! Whitelist for presale available! \u001a   \n",
       "20                                                                                                                                                   My wife said she wanted 9 inches and wanted it to hurt...   \n",
       "21                                                                                                                                                                 A New Yorker Asks for a Cab Ride to Chicago   \n",
       "22                                                                                                                                    Would a Local Area Network in Australia, be considered a LAN down under?   \n",
       "23  As a young sailor we were sitting around talking about what our parents do for a living one guy exclaimed, “My Dad works for the post office but my Moms a Hydroceramic Engineer”, we all oohed and aahed…   \n",
       "24                                                                                                                                                                                        A joke about 50 Cent   \n",
       "\n",
       "                                                                                                                                                                                                                                                                                                                                                                                                           selftext  \n",
       "0                                                                                                                                                                                                                                                                                                                                                                One is a heated yam and the other is a yeeted ham.  \n",
       "1                                                                                                                                                                                                                                                                                                                                                                                                           TechSAS  \n",
       "2                                                                                                                                                                                                                                                                                                                                                                                                         [removed]  \n",
       "3                                                                                                                                                                                                                                                                                                                                         Suddenly, there's no more hot moms in my area who want to meet up anymore  \n",
       "4                                                                                                                                                                                                                                                                                             Take the saw, cut the table in half, 2 halves make a whole, now you got a “whole” so you crawl through it and escape.  \n",
       "5                                                                                                                                                                                                                                                                                                                                                 I stuck a metal ruler in there twice and it still wasnt enough...  \n",
       "6                                                                                                                                                                                                                                                                                                                                                                  Well many would think of it as a Rook-ie mistake  \n",
       "7                                                                                                                                                                                                                                                                                                                                                                                                         [removed]  \n",
       "8   \"In my case,\" said the student to the sex researcher, \"when I get it part of the way in, my vision blurs. And when it's all the way in, I can't see a thing.\" \"Now, that's an most interesting optical reaction,\" said the researcher. \"It may well have anatomical as well as physiological basis. If you don't mind, young man, I'd like to have a look at it.\"\\n\\nSo, the student shrugged and stuck out ...  \n",
       "9                                                                                                                                                                                                                                                                                                                                                                                                         [removed]  \n",
       "10                                                                                                                                                                                                                                                                                                                                                                                                        [removed]  \n",
       "11                                                                                                                                                                                                                                                                                                                                                               So I fucked her twice and punched her in the face.  \n",
       "12                                                                                                                                                                                                                                                                                                                                                                                  \\n... Someone had it in for me.  \n",
       "13                                                                                                                                                                                                                                                                                                                                                                                                          A.C.D.C  \n",
       "14                                                                                                                                                                                                                                                                                                                                                                 They both grind men’s bones to make their bread.  \n",
       "15  A couple is going on vacation to Florida, and for one reason or another the husband has to fly down a day early. When he gets there he goes to a computer in the hotel lobby to email his wife and let her know he made it safely. When sending the email he typed her address one letter wrong and the email ended up going to a recently widowed woman.  That night the woman sat down at her computer and...  \n",
       "16                                                                                                                                                                                                                                                                                                                                                                                   Because it's a super position.  \n",
       "17                                                                                                                                                                                                                                                                                                                                                                                                 Beef stroganoff!  \n",
       "18                                                                                                                                                                                                                                                                                                                                                                                                        [removed]  \n",
       "19                                                                                                                                                                                                                                                                                                                                                                                                        [removed]  \n",
       "20                                                                                                                                                                                                                                                                                                                                                                         so I fucked her twice and broke her jaw.  \n",
       "21  A man gets in a cab at 33rd St. and Park Ave. and says, \"I need to get to the Palmer House.\"\\n\\nThe cabbie says, \"The Palmer House Hotel?\"\\n\\nThe man says, \"Yeah.\"\\n\\nThe cabbie says, \"That's on Wabash in Chicago.\"\\n\\nThe man says, \"Yeah.\"\\n\\nThe cabbie says, \"I'm not gonna drive you to Chicago. I'll take you to LaGuardia, you can get on a plane.\"\\n\\nThe man says, \"No, I can't do that, I've go...  \n",
       "22                                                                                                                                                                                                                                                                                                                                                                                                        [removed]  \n",
       "23                                                                                                                                                                                                                                                                                                                                                                                             “She’s a dishwasher”  \n",
       "24  I might have capied this from somewhere, Who Gnows???\\n\\n50 Cent is on a world wide tour and is playing his first gig in Ballarat. The place is absolutely packed to the rafters. In a bid to break the ice with his new audience he asks if anyone would like him to play a request. A little old Australian man jumps out of his front row seat and shouts \"Play Indie Club! Play Indie Club!\"\\n\\nAmazed t...  "
      ]
     },
     "execution_count": 903,
     "metadata": {},
     "output_type": "execute_result"
    }
   ],
   "source": [
    "df.head(25)"
   ]
  },
  {
   "cell_type": "markdown",
   "id": "547119ba",
   "metadata": {},
   "source": [
    "### DATA EVALUATION AND CLEANING "
   ]
  },
  {
   "cell_type": "code",
   "execution_count": 904,
   "id": "856f9437",
   "metadata": {},
   "outputs": [
    {
     "data": {
      "text/plain": [
       "relationship_advice    1500\n",
       "Jokes                  1500\n",
       "Name: subreddit, dtype: int64"
      ]
     },
     "execution_count": 904,
     "metadata": {},
     "output_type": "execute_result"
    }
   ],
   "source": [
    "df['subreddit'].value_counts()"
   ]
  },
  {
   "cell_type": "code",
   "execution_count": 905,
   "id": "882c31bb",
   "metadata": {},
   "outputs": [],
   "source": [
    "# duplicated rows dropped to have all unqiue submissions \n",
    "df.drop_duplicates(inplace=True)"
   ]
  },
  {
   "cell_type": "code",
   "execution_count": 906,
   "id": "fa8af0ee",
   "metadata": {},
   "outputs": [
    {
     "data": {
      "text/plain": [
       "subreddit    object\n",
       "title        object\n",
       "selftext     object\n",
       "dtype: object"
      ]
     },
     "execution_count": 906,
     "metadata": {},
     "output_type": "execute_result"
    }
   ],
   "source": [
    "df.dtypes"
   ]
  },
  {
   "cell_type": "code",
   "execution_count": 907,
   "id": "129e3b15",
   "metadata": {},
   "outputs": [],
   "source": [
    "# Sum of amount of posts that were removed. They will not be useful. \n",
    "rem = sum(1 for i in df['selftext'] if i == '[removed]')"
   ]
  },
  {
   "cell_type": "code",
   "execution_count": 908,
   "id": "9f349388",
   "metadata": {},
   "outputs": [
    {
     "data": {
      "text/plain": [
       "366"
      ]
     },
     "execution_count": 908,
     "metadata": {},
     "output_type": "execute_result"
    }
   ],
   "source": [
    "rem"
   ]
  },
  {
   "cell_type": "code",
   "execution_count": 909,
   "id": "e806e37b",
   "metadata": {},
   "outputs": [],
   "source": [
    "rem2 = sum(1 for i in df['selftext'] if i == '[deleted]')"
   ]
  },
  {
   "cell_type": "code",
   "execution_count": 910,
   "id": "ff988f45",
   "metadata": {},
   "outputs": [
    {
     "data": {
      "text/plain": [
       "5"
      ]
     },
     "execution_count": 910,
     "metadata": {},
     "output_type": "execute_result"
    }
   ],
   "source": [
    "rem2"
   ]
  },
  {
   "cell_type": "code",
   "execution_count": 911,
   "id": "3bfe3e45",
   "metadata": {},
   "outputs": [],
   "source": [
    "del_df = df[df.selftext != '[deleted]']"
   ]
  },
  {
   "cell_type": "code",
   "execution_count": 912,
   "id": "4e584ebe",
   "metadata": {},
   "outputs": [],
   "source": [
    "# Creating a new dataframe without the removed or deleted submissions. \n",
    "new_df = del_df[del_df.selftext != '[removed]'].copy()"
   ]
  },
  {
   "cell_type": "code",
   "execution_count": 913,
   "id": "a0804cea",
   "metadata": {},
   "outputs": [
    {
     "data": {
      "text/plain": [
       "(2415, 3)"
      ]
     },
     "execution_count": 913,
     "metadata": {},
     "output_type": "execute_result"
    }
   ],
   "source": [
    "new_df.shape"
   ]
  },
  {
   "cell_type": "code",
   "execution_count": 914,
   "id": "b1620c82",
   "metadata": {},
   "outputs": [
    {
     "data": {
      "text/plain": [
       "subreddit    0\n",
       "title        0\n",
       "selftext     4\n",
       "dtype: int64"
      ]
     },
     "execution_count": 914,
     "metadata": {},
     "output_type": "execute_result"
    }
   ],
   "source": [
    "df.isnull().sum()"
   ]
  },
  {
   "cell_type": "code",
   "execution_count": 915,
   "id": "0620c7f9",
   "metadata": {},
   "outputs": [],
   "source": [
    "new_df.dropna(inplace=True)"
   ]
  },
  {
   "cell_type": "code",
   "execution_count": 916,
   "id": "622531c8",
   "metadata": {},
   "outputs": [
    {
     "data": {
      "text/plain": [
       "relationship_advice    1308\n",
       "Jokes                  1103\n",
       "Name: subreddit, dtype: int64"
      ]
     },
     "execution_count": 916,
     "metadata": {},
     "output_type": "execute_result"
    }
   ],
   "source": [
    "# There are still over 1000 posts for each subreddit. \n",
    "new_df['subreddit'].value_counts()"
   ]
  },
  {
   "cell_type": "code",
   "execution_count": 917,
   "id": "6a7eca8e",
   "metadata": {},
   "outputs": [],
   "source": [
    "new_df.reset_index(drop=True, inplace=True)"
   ]
  },
  {
   "cell_type": "code",
   "execution_count": 918,
   "id": "c207ea6d",
   "metadata": {},
   "outputs": [
    {
     "data": {
      "text/plain": [
       "(2411, 3)"
      ]
     },
     "execution_count": 918,
     "metadata": {},
     "output_type": "execute_result"
    }
   ],
   "source": [
    "new_df.shape"
   ]
  },
  {
   "cell_type": "code",
   "execution_count": 919,
   "id": "2999bab3",
   "metadata": {},
   "outputs": [],
   "source": [
    "new_df['subreddit'] = new_df['subreddit'].map({'Jokes':0, 'relationship_advice':1})"
   ]
  },
  {
   "cell_type": "code",
   "execution_count": 920,
   "id": "2f628b05",
   "metadata": {},
   "outputs": [
    {
     "data": {
      "text/html": [
       "<div>\n",
       "<style scoped>\n",
       "    .dataframe tbody tr th:only-of-type {\n",
       "        vertical-align: middle;\n",
       "    }\n",
       "\n",
       "    .dataframe tbody tr th {\n",
       "        vertical-align: top;\n",
       "    }\n",
       "\n",
       "    .dataframe thead th {\n",
       "        text-align: right;\n",
       "    }\n",
       "</style>\n",
       "<table border=\"1\" class=\"dataframe\">\n",
       "  <thead>\n",
       "    <tr style=\"text-align: right;\">\n",
       "      <th></th>\n",
       "      <th>subreddit</th>\n",
       "      <th>title</th>\n",
       "      <th>selftext</th>\n",
       "    </tr>\n",
       "  </thead>\n",
       "  <tbody>\n",
       "    <tr>\n",
       "      <th>0</th>\n",
       "      <td>0</td>\n",
       "      <td>What’s the difference between a potato fresh out of the oven and a pig thrown off a balcony?</td>\n",
       "      <td>One is a heated yam and the other is a yeeted ham.</td>\n",
       "    </tr>\n",
       "    <tr>\n",
       "      <th>1</th>\n",
       "      <td>0</td>\n",
       "      <td>What state has the rudest IT people?</td>\n",
       "      <td>TechSAS</td>\n",
       "    </tr>\n",
       "    <tr>\n",
       "      <th>2</th>\n",
       "      <td>0</td>\n",
       "      <td>What's the worst part about Ad Blockers?</td>\n",
       "      <td>Suddenly, there's no more hot moms in my area who want to meet up anymore</td>\n",
       "    </tr>\n",
       "    <tr>\n",
       "      <th>3</th>\n",
       "      <td>0</td>\n",
       "      <td>Got this from a coworker. If you’re in a locked room with noting but a saw and a table, how do you escape?</td>\n",
       "      <td>Take the saw, cut the table in half, 2 halves make a whole, now you got a “whole” so you crawl through it and escape.</td>\n",
       "    </tr>\n",
       "    <tr>\n",
       "      <th>4</th>\n",
       "      <td>0</td>\n",
       "      <td>My wife said she wanted 12 inches and make it hurt...</td>\n",
       "      <td>I stuck a metal ruler in there twice and it still wasnt enough...</td>\n",
       "    </tr>\n",
       "  </tbody>\n",
       "</table>\n",
       "</div>"
      ],
      "text/plain": [
       "   subreddit  \\\n",
       "0          0   \n",
       "1          0   \n",
       "2          0   \n",
       "3          0   \n",
       "4          0   \n",
       "\n",
       "                                                                                                        title  \\\n",
       "0                What’s the difference between a potato fresh out of the oven and a pig thrown off a balcony?   \n",
       "1                                                                        What state has the rudest IT people?   \n",
       "2                                                                    What's the worst part about Ad Blockers?   \n",
       "3  Got this from a coworker. If you’re in a locked room with noting but a saw and a table, how do you escape?   \n",
       "4                                                       My wife said she wanted 12 inches and make it hurt...   \n",
       "\n",
       "                                                                                                                selftext  \n",
       "0                                                                     One is a heated yam and the other is a yeeted ham.  \n",
       "1                                                                                                                TechSAS  \n",
       "2                                              Suddenly, there's no more hot moms in my area who want to meet up anymore  \n",
       "3  Take the saw, cut the table in half, 2 halves make a whole, now you got a “whole” so you crawl through it and escape.  \n",
       "4                                                      I stuck a metal ruler in there twice and it still wasnt enough...  "
      ]
     },
     "execution_count": 920,
     "metadata": {},
     "output_type": "execute_result"
    }
   ],
   "source": [
    "new_df.head()"
   ]
  },
  {
   "cell_type": "markdown",
   "id": "c558cf54",
   "metadata": {},
   "source": [
    "#### Descriptive statistics on the length of title and selftext:"
   ]
  },
  {
   "cell_type": "code",
   "execution_count": 921,
   "id": "b8a04cbe",
   "metadata": {},
   "outputs": [
    {
     "data": {
      "text/plain": [
       "count    2411.000000\n",
       "mean       57.748652\n",
       "std        37.656526\n",
       "min         2.000000\n",
       "25%        33.000000\n",
       "50%        50.000000\n",
       "75%        74.000000\n",
       "max       299.000000\n",
       "Name: title, dtype: float64"
      ]
     },
     "execution_count": 921,
     "metadata": {},
     "output_type": "execute_result"
    }
   ],
   "source": [
    "new_df['title'].str.len().describe()\n",
    "# average length of title: 57"
   ]
  },
  {
   "cell_type": "code",
   "execution_count": 922,
   "id": "207a8878",
   "metadata": {},
   "outputs": [
    {
     "data": {
      "text/plain": [
       "count     2411.000000\n",
       "mean       962.071754\n",
       "std       1423.917568\n",
       "min          2.000000\n",
       "25%         52.500000\n",
       "50%        486.000000\n",
       "75%       1336.000000\n",
       "max      18973.000000\n",
       "Name: selftext, dtype: float64"
      ]
     },
     "execution_count": 922,
     "metadata": {},
     "output_type": "execute_result"
    }
   ],
   "source": [
    "new_df['selftext'].str.len().describe()\n",
    "# average length of selftext: 962"
   ]
  },
  {
   "cell_type": "markdown",
   "id": "3274c51a",
   "metadata": {},
   "source": [
    "#### Descriptive statistics on the word count for title and selftext:"
   ]
  },
  {
   "cell_type": "code",
   "execution_count": 923,
   "id": "5974523d",
   "metadata": {},
   "outputs": [
    {
     "data": {
      "text/plain": [
       "count    2411.000000\n",
       "mean       11.118623\n",
       "std         7.453816\n",
       "min         1.000000\n",
       "25%         6.000000\n",
       "50%        10.000000\n",
       "75%        14.000000\n",
       "max        62.000000\n",
       "Name: title, dtype: float64"
      ]
     },
     "execution_count": 923,
     "metadata": {},
     "output_type": "execute_result"
    }
   ],
   "source": [
    "new_df['title'].str.split().str.len().describe()\n",
    "# average word count of title: 11"
   ]
  },
  {
   "cell_type": "code",
   "execution_count": 924,
   "id": "1655db3a",
   "metadata": {},
   "outputs": [
    {
     "data": {
      "text/plain": [
       "count    2411.000000\n",
       "mean      187.209457\n",
       "std       276.703691\n",
       "min         1.000000\n",
       "25%        10.000000\n",
       "50%        95.000000\n",
       "75%       258.000000\n",
       "max      3558.000000\n",
       "Name: selftext, dtype: float64"
      ]
     },
     "execution_count": 924,
     "metadata": {},
     "output_type": "execute_result"
    }
   ],
   "source": [
    "new_df['selftext'].str.split().str.len().describe()\n",
    "# average word count of selftext: 187"
   ]
  },
  {
   "cell_type": "code",
   "execution_count": 982,
   "id": "5c2de7e9",
   "metadata": {},
   "outputs": [],
   "source": [
    "new_df['title_word_count'] = new_df['title'].str.split().str.len()"
   ]
  },
  {
   "cell_type": "code",
   "execution_count": 983,
   "id": "f1ac45f8",
   "metadata": {},
   "outputs": [],
   "source": [
    "new_df['selftext_word_count'] = new_df['selftext'].str.split().str.len()"
   ]
  },
  {
   "cell_type": "code",
   "execution_count": 984,
   "id": "02c10b0e",
   "metadata": {},
   "outputs": [
    {
     "data": {
      "text/html": [
       "<div>\n",
       "<style scoped>\n",
       "    .dataframe tbody tr th:only-of-type {\n",
       "        vertical-align: middle;\n",
       "    }\n",
       "\n",
       "    .dataframe tbody tr th {\n",
       "        vertical-align: top;\n",
       "    }\n",
       "\n",
       "    .dataframe thead th {\n",
       "        text-align: right;\n",
       "    }\n",
       "</style>\n",
       "<table border=\"1\" class=\"dataframe\">\n",
       "  <thead>\n",
       "    <tr style=\"text-align: right;\">\n",
       "      <th></th>\n",
       "      <th>title_word_count</th>\n",
       "      <th>selftext_word_count</th>\n",
       "    </tr>\n",
       "    <tr>\n",
       "      <th>subreddit</th>\n",
       "      <th></th>\n",
       "      <th></th>\n",
       "    </tr>\n",
       "  </thead>\n",
       "  <tbody>\n",
       "    <tr>\n",
       "      <th>0</th>\n",
       "      <td>10.0</td>\n",
       "      <td>37.0</td>\n",
       "    </tr>\n",
       "    <tr>\n",
       "      <th>1</th>\n",
       "      <td>12.0</td>\n",
       "      <td>314.0</td>\n",
       "    </tr>\n",
       "  </tbody>\n",
       "</table>\n",
       "</div>"
      ],
      "text/plain": [
       "           title_word_count  selftext_word_count\n",
       "subreddit                                       \n",
       "0                      10.0                 37.0\n",
       "1                      12.0                314.0"
      ]
     },
     "execution_count": 984,
     "metadata": {},
     "output_type": "execute_result"
    }
   ],
   "source": [
    "# Average word count of title and self text by subreddit. Where 0:Jokes and 1: relationship_advice. \n",
    "new_df.groupby('subreddit').mean().round()[['title_word_count','selftext_word_count']]"
   ]
  },
  {
   "cell_type": "markdown",
   "id": "d4a62886",
   "metadata": {},
   "source": [
    "The word count for relationship_advice self text is more than 8 times greater, on average, than the jokes self text. "
   ]
  },
  {
   "cell_type": "code",
   "execution_count": 987,
   "id": "558cd954",
   "metadata": {},
   "outputs": [
    {
     "data": {
      "text/html": [
       "<div>\n",
       "<style scoped>\n",
       "    .dataframe tbody tr th:only-of-type {\n",
       "        vertical-align: middle;\n",
       "    }\n",
       "\n",
       "    .dataframe tbody tr th {\n",
       "        vertical-align: top;\n",
       "    }\n",
       "\n",
       "    .dataframe thead th {\n",
       "        text-align: right;\n",
       "    }\n",
       "</style>\n",
       "<table border=\"1\" class=\"dataframe\">\n",
       "  <thead>\n",
       "    <tr style=\"text-align: right;\">\n",
       "      <th></th>\n",
       "      <th>subreddit</th>\n",
       "      <th>title</th>\n",
       "      <th>selftext</th>\n",
       "      <th>tokenized_selftext</th>\n",
       "      <th>tokenized_title</th>\n",
       "      <th>lemmatized_tokenized_selftext</th>\n",
       "      <th>lemmatized_tokenized_title</th>\n",
       "      <th>stemmatized_tokenized_selftext</th>\n",
       "      <th>stemmatized_tokenized_title</th>\n",
       "      <th>title_str_length</th>\n",
       "      <th>selftext_str_length</th>\n",
       "      <th>title_word_count</th>\n",
       "      <th>selftext_word_count</th>\n",
       "    </tr>\n",
       "  </thead>\n",
       "  <tbody>\n",
       "    <tr>\n",
       "      <th>0</th>\n",
       "      <td>0</td>\n",
       "      <td>What’s the difference between a potato fresh out of the oven and a pig thrown off a balcony?</td>\n",
       "      <td>One is a heated yam and the other is a yeeted ham.</td>\n",
       "      <td>[one, is, a, heated, yam, and, the, other, is, a, yeeted, ham]</td>\n",
       "      <td>[what, s, the, difference, between, a, potato, fresh, out, of, the, oven, and, a, pig, thrown, off, a, balcony]</td>\n",
       "      <td>[one, is, a, heated, yam, and, the, other, is, a, yeeted, ham]</td>\n",
       "      <td>[what, s, the, difference, between, a, potato, fresh, out, of, the, oven, and, a, pig, thrown, off, a, balcony]</td>\n",
       "      <td>[one, is, a, heat, yam, and, the, other, is, a, yeet, ham]</td>\n",
       "      <td>[what, s, the, differ, between, a, potato, fresh, out, of, the, oven, and, a, pig, thrown, off, a, balconi]</td>\n",
       "      <td>18</td>\n",
       "      <td>12</td>\n",
       "      <td>18</td>\n",
       "      <td>12</td>\n",
       "    </tr>\n",
       "  </tbody>\n",
       "</table>\n",
       "</div>"
      ],
      "text/plain": [
       "   subreddit  \\\n",
       "0          0   \n",
       "\n",
       "                                                                                          title  \\\n",
       "0  What’s the difference between a potato fresh out of the oven and a pig thrown off a balcony?   \n",
       "\n",
       "                                             selftext  \\\n",
       "0  One is a heated yam and the other is a yeeted ham.   \n",
       "\n",
       "                                               tokenized_selftext  \\\n",
       "0  [one, is, a, heated, yam, and, the, other, is, a, yeeted, ham]   \n",
       "\n",
       "                                                                                                   tokenized_title  \\\n",
       "0  [what, s, the, difference, between, a, potato, fresh, out, of, the, oven, and, a, pig, thrown, off, a, balcony]   \n",
       "\n",
       "                                    lemmatized_tokenized_selftext  \\\n",
       "0  [one, is, a, heated, yam, and, the, other, is, a, yeeted, ham]   \n",
       "\n",
       "                                                                                        lemmatized_tokenized_title  \\\n",
       "0  [what, s, the, difference, between, a, potato, fresh, out, of, the, oven, and, a, pig, thrown, off, a, balcony]   \n",
       "\n",
       "                               stemmatized_tokenized_selftext  \\\n",
       "0  [one, is, a, heat, yam, and, the, other, is, a, yeet, ham]   \n",
       "\n",
       "                                                                                   stemmatized_tokenized_title  \\\n",
       "0  [what, s, the, differ, between, a, potato, fresh, out, of, the, oven, and, a, pig, thrown, off, a, balconi]   \n",
       "\n",
       "   title_str_length  selftext_str_length  title_word_count  \\\n",
       "0                18                   12                18   \n",
       "\n",
       "   selftext_word_count  \n",
       "0                   12  "
      ]
     },
     "execution_count": 987,
     "metadata": {},
     "output_type": "execute_result"
    }
   ],
   "source": [
    "new_df.head(1)"
   ]
  },
  {
   "cell_type": "markdown",
   "id": "1c6c138a",
   "metadata": {},
   "source": [
    "### NLP"
   ]
  },
  {
   "cell_type": "markdown",
   "id": "47c8d3ea",
   "metadata": {},
   "source": [
    "Code inspired by NLP lecture & https://towardsdatascience.com/how-to-use-nlp-in-python-a-practical-step-by-step-example-bd82ca2d2e1e\n",
    "##### Tokenization "
   ]
  },
  {
   "cell_type": "code",
   "execution_count": 925,
   "id": "516fcbd0",
   "metadata": {},
   "outputs": [],
   "source": [
    "columns = ['selftext','title']"
   ]
  },
  {
   "cell_type": "code",
   "execution_count": 926,
   "id": "af2f2965",
   "metadata": {},
   "outputs": [],
   "source": [
    "def tokenize_data(data, cols):\n",
    "    tokenizer = RegexpTokenizer(r'\\w+')\n",
    "    for col in cols:\n",
    "        tokenized_items = [tokenizer.tokenize(item.lower()) for item in data[col]]\n",
    "        data[f'tokenized_{col}'] = tokenized_items\n",
    "    return data"
   ]
  },
  {
   "cell_type": "code",
   "execution_count": 927,
   "id": "91c85774",
   "metadata": {},
   "outputs": [],
   "source": [
    "new_df = tokenize_data(new_df, columns)"
   ]
  },
  {
   "cell_type": "code",
   "execution_count": 928,
   "id": "7468775a",
   "metadata": {},
   "outputs": [
    {
     "data": {
      "text/html": [
       "<div>\n",
       "<style scoped>\n",
       "    .dataframe tbody tr th:only-of-type {\n",
       "        vertical-align: middle;\n",
       "    }\n",
       "\n",
       "    .dataframe tbody tr th {\n",
       "        vertical-align: top;\n",
       "    }\n",
       "\n",
       "    .dataframe thead th {\n",
       "        text-align: right;\n",
       "    }\n",
       "</style>\n",
       "<table border=\"1\" class=\"dataframe\">\n",
       "  <thead>\n",
       "    <tr style=\"text-align: right;\">\n",
       "      <th></th>\n",
       "      <th>subreddit</th>\n",
       "      <th>title</th>\n",
       "      <th>selftext</th>\n",
       "      <th>tokenized_selftext</th>\n",
       "      <th>tokenized_title</th>\n",
       "    </tr>\n",
       "  </thead>\n",
       "  <tbody>\n",
       "    <tr>\n",
       "      <th>0</th>\n",
       "      <td>0</td>\n",
       "      <td>What’s the difference between a potato fresh out of the oven and a pig thrown off a balcony?</td>\n",
       "      <td>One is a heated yam and the other is a yeeted ham.</td>\n",
       "      <td>[one, is, a, heated, yam, and, the, other, is, a, yeeted, ham]</td>\n",
       "      <td>[what, s, the, difference, between, a, potato, fresh, out, of, the, oven, and, a, pig, thrown, off, a, balcony]</td>\n",
       "    </tr>\n",
       "    <tr>\n",
       "      <th>1</th>\n",
       "      <td>0</td>\n",
       "      <td>What state has the rudest IT people?</td>\n",
       "      <td>TechSAS</td>\n",
       "      <td>[techsas]</td>\n",
       "      <td>[what, state, has, the, rudest, it, people]</td>\n",
       "    </tr>\n",
       "  </tbody>\n",
       "</table>\n",
       "</div>"
      ],
      "text/plain": [
       "   subreddit  \\\n",
       "0          0   \n",
       "1          0   \n",
       "\n",
       "                                                                                          title  \\\n",
       "0  What’s the difference between a potato fresh out of the oven and a pig thrown off a balcony?   \n",
       "1                                                          What state has the rudest IT people?   \n",
       "\n",
       "                                             selftext  \\\n",
       "0  One is a heated yam and the other is a yeeted ham.   \n",
       "1                                             TechSAS   \n",
       "\n",
       "                                               tokenized_selftext  \\\n",
       "0  [one, is, a, heated, yam, and, the, other, is, a, yeeted, ham]   \n",
       "1                                                       [techsas]   \n",
       "\n",
       "                                                                                                   tokenized_title  \n",
       "0  [what, s, the, difference, between, a, potato, fresh, out, of, the, oven, and, a, pig, thrown, off, a, balcony]  \n",
       "1                                                                      [what, state, has, the, rudest, it, people]  "
      ]
     },
     "execution_count": 928,
     "metadata": {},
     "output_type": "execute_result"
    }
   ],
   "source": [
    "new_df.head(2)"
   ]
  },
  {
   "cell_type": "markdown",
   "id": "a9a100ed",
   "metadata": {},
   "source": [
    "##### Lemmatization"
   ]
  },
  {
   "cell_type": "code",
   "execution_count": 929,
   "id": "da0c178c",
   "metadata": {},
   "outputs": [],
   "source": [
    " lem_cols = ['tokenized_selftext', 'tokenized_title']"
   ]
  },
  {
   "cell_type": "code",
   "execution_count": 930,
   "id": "7ea0c46e",
   "metadata": {},
   "outputs": [],
   "source": [
    "def lem_data(data, cols):\n",
    "    lemmatizer = WordNetLemmatizer()\n",
    "    for col in cols:\n",
    "        lemmed = []\n",
    "        for row in data[col]:\n",
    "            lemmed_row = [lemmatizer.lemmatize(word) for word in row]\n",
    "            lemmed.append(lemmed_row)\n",
    "        data[f'lemmatized_{col}'] = lemmed\n",
    "    return data"
   ]
  },
  {
   "cell_type": "code",
   "execution_count": 931,
   "id": "1c293a2a",
   "metadata": {},
   "outputs": [],
   "source": [
    "new_df = lem_data(new_df, lem_cols)"
   ]
  },
  {
   "cell_type": "code",
   "execution_count": 932,
   "id": "d480e512",
   "metadata": {},
   "outputs": [
    {
     "data": {
      "text/html": [
       "<div>\n",
       "<style scoped>\n",
       "    .dataframe tbody tr th:only-of-type {\n",
       "        vertical-align: middle;\n",
       "    }\n",
       "\n",
       "    .dataframe tbody tr th {\n",
       "        vertical-align: top;\n",
       "    }\n",
       "\n",
       "    .dataframe thead th {\n",
       "        text-align: right;\n",
       "    }\n",
       "</style>\n",
       "<table border=\"1\" class=\"dataframe\">\n",
       "  <thead>\n",
       "    <tr style=\"text-align: right;\">\n",
       "      <th></th>\n",
       "      <th>subreddit</th>\n",
       "      <th>title</th>\n",
       "      <th>selftext</th>\n",
       "      <th>tokenized_selftext</th>\n",
       "      <th>tokenized_title</th>\n",
       "      <th>lemmatized_tokenized_selftext</th>\n",
       "      <th>lemmatized_tokenized_title</th>\n",
       "    </tr>\n",
       "  </thead>\n",
       "  <tbody>\n",
       "    <tr>\n",
       "      <th>0</th>\n",
       "      <td>0</td>\n",
       "      <td>What’s the difference between a potato fresh out of the oven and a pig thrown off a balcony?</td>\n",
       "      <td>One is a heated yam and the other is a yeeted ham.</td>\n",
       "      <td>[one, is, a, heated, yam, and, the, other, is, a, yeeted, ham]</td>\n",
       "      <td>[what, s, the, difference, between, a, potato, fresh, out, of, the, oven, and, a, pig, thrown, off, a, balcony]</td>\n",
       "      <td>[one, is, a, heated, yam, and, the, other, is, a, yeeted, ham]</td>\n",
       "      <td>[what, s, the, difference, between, a, potato, fresh, out, of, the, oven, and, a, pig, thrown, off, a, balcony]</td>\n",
       "    </tr>\n",
       "    <tr>\n",
       "      <th>1</th>\n",
       "      <td>0</td>\n",
       "      <td>What state has the rudest IT people?</td>\n",
       "      <td>TechSAS</td>\n",
       "      <td>[techsas]</td>\n",
       "      <td>[what, state, has, the, rudest, it, people]</td>\n",
       "      <td>[techsas]</td>\n",
       "      <td>[what, state, ha, the, rudest, it, people]</td>\n",
       "    </tr>\n",
       "  </tbody>\n",
       "</table>\n",
       "</div>"
      ],
      "text/plain": [
       "   subreddit  \\\n",
       "0          0   \n",
       "1          0   \n",
       "\n",
       "                                                                                          title  \\\n",
       "0  What’s the difference between a potato fresh out of the oven and a pig thrown off a balcony?   \n",
       "1                                                          What state has the rudest IT people?   \n",
       "\n",
       "                                             selftext  \\\n",
       "0  One is a heated yam and the other is a yeeted ham.   \n",
       "1                                             TechSAS   \n",
       "\n",
       "                                               tokenized_selftext  \\\n",
       "0  [one, is, a, heated, yam, and, the, other, is, a, yeeted, ham]   \n",
       "1                                                       [techsas]   \n",
       "\n",
       "                                                                                                   tokenized_title  \\\n",
       "0  [what, s, the, difference, between, a, potato, fresh, out, of, the, oven, and, a, pig, thrown, off, a, balcony]   \n",
       "1                                                                      [what, state, has, the, rudest, it, people]   \n",
       "\n",
       "                                    lemmatized_tokenized_selftext  \\\n",
       "0  [one, is, a, heated, yam, and, the, other, is, a, yeeted, ham]   \n",
       "1                                                       [techsas]   \n",
       "\n",
       "                                                                                        lemmatized_tokenized_title  \n",
       "0  [what, s, the, difference, between, a, potato, fresh, out, of, the, oven, and, a, pig, thrown, off, a, balcony]  \n",
       "1                                                                       [what, state, ha, the, rudest, it, people]  "
      ]
     },
     "execution_count": 932,
     "metadata": {},
     "output_type": "execute_result"
    }
   ],
   "source": [
    "new_df.head(2)"
   ]
  },
  {
   "cell_type": "markdown",
   "id": "2eb26cd1",
   "metadata": {},
   "source": [
    "##### Stemming"
   ]
  },
  {
   "cell_type": "code",
   "execution_count": 933,
   "id": "5d04b99e",
   "metadata": {},
   "outputs": [],
   "source": [
    "stem_cols = ['tokenized_selftext', 'tokenized_title']"
   ]
  },
  {
   "cell_type": "code",
   "execution_count": 934,
   "id": "72d421f4",
   "metadata": {},
   "outputs": [],
   "source": [
    "def stem_data(data, cols):\n",
    "    p_stemmer = PorterStemmer()\n",
    "    for col in cols:\n",
    "        stemmed = []\n",
    "        for row in data[col]:\n",
    "            stemmed_row = [p_stemmer.stem(word) for word in row]\n",
    "            stemmed.append(stemmed_row)\n",
    "        data[f'stemmatized_{col}'] = stemmed\n",
    "    return data  "
   ]
  },
  {
   "cell_type": "code",
   "execution_count": 935,
   "id": "aa1b7d0c",
   "metadata": {},
   "outputs": [],
   "source": [
    "new_df = stem_data(new_df, stem_cols)"
   ]
  },
  {
   "cell_type": "code",
   "execution_count": 936,
   "id": "a2ea87e8",
   "metadata": {},
   "outputs": [
    {
     "data": {
      "text/html": [
       "<div>\n",
       "<style scoped>\n",
       "    .dataframe tbody tr th:only-of-type {\n",
       "        vertical-align: middle;\n",
       "    }\n",
       "\n",
       "    .dataframe tbody tr th {\n",
       "        vertical-align: top;\n",
       "    }\n",
       "\n",
       "    .dataframe thead th {\n",
       "        text-align: right;\n",
       "    }\n",
       "</style>\n",
       "<table border=\"1\" class=\"dataframe\">\n",
       "  <thead>\n",
       "    <tr style=\"text-align: right;\">\n",
       "      <th></th>\n",
       "      <th>subreddit</th>\n",
       "      <th>title</th>\n",
       "      <th>selftext</th>\n",
       "      <th>tokenized_selftext</th>\n",
       "      <th>tokenized_title</th>\n",
       "      <th>lemmatized_tokenized_selftext</th>\n",
       "      <th>lemmatized_tokenized_title</th>\n",
       "      <th>stemmatized_tokenized_selftext</th>\n",
       "      <th>stemmatized_tokenized_title</th>\n",
       "    </tr>\n",
       "  </thead>\n",
       "  <tbody>\n",
       "    <tr>\n",
       "      <th>0</th>\n",
       "      <td>0</td>\n",
       "      <td>What’s the difference between a potato fresh out of the oven and a pig thrown off a balcony?</td>\n",
       "      <td>One is a heated yam and the other is a yeeted ham.</td>\n",
       "      <td>[one, is, a, heated, yam, and, the, other, is, a, yeeted, ham]</td>\n",
       "      <td>[what, s, the, difference, between, a, potato, fresh, out, of, the, oven, and, a, pig, thrown, off, a, balcony]</td>\n",
       "      <td>[one, is, a, heated, yam, and, the, other, is, a, yeeted, ham]</td>\n",
       "      <td>[what, s, the, difference, between, a, potato, fresh, out, of, the, oven, and, a, pig, thrown, off, a, balcony]</td>\n",
       "      <td>[one, is, a, heat, yam, and, the, other, is, a, yeet, ham]</td>\n",
       "      <td>[what, s, the, differ, between, a, potato, fresh, out, of, the, oven, and, a, pig, thrown, off, a, balconi]</td>\n",
       "    </tr>\n",
       "    <tr>\n",
       "      <th>1</th>\n",
       "      <td>0</td>\n",
       "      <td>What state has the rudest IT people?</td>\n",
       "      <td>TechSAS</td>\n",
       "      <td>[techsas]</td>\n",
       "      <td>[what, state, has, the, rudest, it, people]</td>\n",
       "      <td>[techsas]</td>\n",
       "      <td>[what, state, ha, the, rudest, it, people]</td>\n",
       "      <td>[techsa]</td>\n",
       "      <td>[what, state, ha, the, rudest, it, peopl]</td>\n",
       "    </tr>\n",
       "  </tbody>\n",
       "</table>\n",
       "</div>"
      ],
      "text/plain": [
       "   subreddit  \\\n",
       "0          0   \n",
       "1          0   \n",
       "\n",
       "                                                                                          title  \\\n",
       "0  What’s the difference between a potato fresh out of the oven and a pig thrown off a balcony?   \n",
       "1                                                          What state has the rudest IT people?   \n",
       "\n",
       "                                             selftext  \\\n",
       "0  One is a heated yam and the other is a yeeted ham.   \n",
       "1                                             TechSAS   \n",
       "\n",
       "                                               tokenized_selftext  \\\n",
       "0  [one, is, a, heated, yam, and, the, other, is, a, yeeted, ham]   \n",
       "1                                                       [techsas]   \n",
       "\n",
       "                                                                                                   tokenized_title  \\\n",
       "0  [what, s, the, difference, between, a, potato, fresh, out, of, the, oven, and, a, pig, thrown, off, a, balcony]   \n",
       "1                                                                      [what, state, has, the, rudest, it, people]   \n",
       "\n",
       "                                    lemmatized_tokenized_selftext  \\\n",
       "0  [one, is, a, heated, yam, and, the, other, is, a, yeeted, ham]   \n",
       "1                                                       [techsas]   \n",
       "\n",
       "                                                                                        lemmatized_tokenized_title  \\\n",
       "0  [what, s, the, difference, between, a, potato, fresh, out, of, the, oven, and, a, pig, thrown, off, a, balcony]   \n",
       "1                                                                       [what, state, ha, the, rudest, it, people]   \n",
       "\n",
       "                               stemmatized_tokenized_selftext  \\\n",
       "0  [one, is, a, heat, yam, and, the, other, is, a, yeet, ham]   \n",
       "1                                                    [techsa]   \n",
       "\n",
       "                                                                                   stemmatized_tokenized_title  \n",
       "0  [what, s, the, differ, between, a, potato, fresh, out, of, the, oven, and, a, pig, thrown, off, a, balconi]  \n",
       "1                                                                    [what, state, ha, the, rudest, it, peopl]  "
      ]
     },
     "execution_count": 936,
     "metadata": {},
     "output_type": "execute_result"
    }
   ],
   "source": [
    "new_df.head(2)"
   ]
  },
  {
   "cell_type": "markdown",
   "id": "a3bf4640",
   "metadata": {},
   "source": [
    "##### Exploring CV classification"
   ]
  },
  {
   "cell_type": "code",
   "execution_count": 937,
   "id": "b738b2e9",
   "metadata": {},
   "outputs": [],
   "source": [
    "cv = CountVectorizer(stop_words = 'english')"
   ]
  },
  {
   "cell_type": "code",
   "execution_count": 938,
   "id": "fa42391b",
   "metadata": {},
   "outputs": [],
   "source": [
    "x = new_df['selftext']"
   ]
  },
  {
   "cell_type": "code",
   "execution_count": 939,
   "id": "e46a4bd6",
   "metadata": {},
   "outputs": [
    {
     "data": {
      "text/plain": [
       "CountVectorizer(stop_words='english')"
      ]
     },
     "execution_count": 939,
     "metadata": {},
     "output_type": "execute_result"
    }
   ],
   "source": [
    "cv.fit(x)"
   ]
  },
  {
   "cell_type": "code",
   "execution_count": 940,
   "id": "eb118b43",
   "metadata": {},
   "outputs": [],
   "source": [
    "x_cv = cv.transform(x)"
   ]
  },
  {
   "cell_type": "code",
   "execution_count": 941,
   "id": "3c069ed1",
   "metadata": {},
   "outputs": [
    {
     "data": {
      "text/plain": [
       "(2411, 12943)"
      ]
     },
     "execution_count": 941,
     "metadata": {},
     "output_type": "execute_result"
    }
   ],
   "source": [
    "x_cv.shape"
   ]
  },
  {
   "cell_type": "code",
   "execution_count": 942,
   "id": "9f8353b0",
   "metadata": {},
   "outputs": [],
   "source": [
    "selftext_dataframe = pd.DataFrame(x_cv.todense(), columns=cv.get_feature_names())"
   ]
  },
  {
   "cell_type": "code",
   "execution_count": 943,
   "id": "7f550cd2",
   "metadata": {},
   "outputs": [
    {
     "data": {
      "text/html": [
       "<div>\n",
       "<style scoped>\n",
       "    .dataframe tbody tr th:only-of-type {\n",
       "        vertical-align: middle;\n",
       "    }\n",
       "\n",
       "    .dataframe tbody tr th {\n",
       "        vertical-align: top;\n",
       "    }\n",
       "\n",
       "    .dataframe thead th {\n",
       "        text-align: right;\n",
       "    }\n",
       "</style>\n",
       "<table border=\"1\" class=\"dataframe\">\n",
       "  <thead>\n",
       "    <tr style=\"text-align: right;\">\n",
       "      <th></th>\n",
       "      <th>00</th>\n",
       "      <th>000</th>\n",
       "      <th>000km</th>\n",
       "      <th>00am</th>\n",
       "      <th>0396</th>\n",
       "      <th>05</th>\n",
       "      <th>05am</th>\n",
       "      <th>07</th>\n",
       "      <th>10</th>\n",
       "      <th>100</th>\n",
       "      <th>...</th>\n",
       "      <th>zoom</th>\n",
       "      <th>zoomed</th>\n",
       "      <th>zu</th>\n",
       "      <th>zuerst</th>\n",
       "      <th>zum</th>\n",
       "      <th>zurich</th>\n",
       "      <th>zurückbringen</th>\n",
       "      <th>zusammen</th>\n",
       "      <th>über</th>\n",
       "      <th>übereinstimmt</th>\n",
       "    </tr>\n",
       "  </thead>\n",
       "  <tbody>\n",
       "    <tr>\n",
       "      <th>0</th>\n",
       "      <td>0</td>\n",
       "      <td>0</td>\n",
       "      <td>0</td>\n",
       "      <td>0</td>\n",
       "      <td>0</td>\n",
       "      <td>0</td>\n",
       "      <td>0</td>\n",
       "      <td>0</td>\n",
       "      <td>0</td>\n",
       "      <td>0</td>\n",
       "      <td>...</td>\n",
       "      <td>0</td>\n",
       "      <td>0</td>\n",
       "      <td>0</td>\n",
       "      <td>0</td>\n",
       "      <td>0</td>\n",
       "      <td>0</td>\n",
       "      <td>0</td>\n",
       "      <td>0</td>\n",
       "      <td>0</td>\n",
       "      <td>0</td>\n",
       "    </tr>\n",
       "    <tr>\n",
       "      <th>1</th>\n",
       "      <td>0</td>\n",
       "      <td>0</td>\n",
       "      <td>0</td>\n",
       "      <td>0</td>\n",
       "      <td>0</td>\n",
       "      <td>0</td>\n",
       "      <td>0</td>\n",
       "      <td>0</td>\n",
       "      <td>0</td>\n",
       "      <td>0</td>\n",
       "      <td>...</td>\n",
       "      <td>0</td>\n",
       "      <td>0</td>\n",
       "      <td>0</td>\n",
       "      <td>0</td>\n",
       "      <td>0</td>\n",
       "      <td>0</td>\n",
       "      <td>0</td>\n",
       "      <td>0</td>\n",
       "      <td>0</td>\n",
       "      <td>0</td>\n",
       "    </tr>\n",
       "    <tr>\n",
       "      <th>2</th>\n",
       "      <td>0</td>\n",
       "      <td>0</td>\n",
       "      <td>0</td>\n",
       "      <td>0</td>\n",
       "      <td>0</td>\n",
       "      <td>0</td>\n",
       "      <td>0</td>\n",
       "      <td>0</td>\n",
       "      <td>0</td>\n",
       "      <td>0</td>\n",
       "      <td>...</td>\n",
       "      <td>0</td>\n",
       "      <td>0</td>\n",
       "      <td>0</td>\n",
       "      <td>0</td>\n",
       "      <td>0</td>\n",
       "      <td>0</td>\n",
       "      <td>0</td>\n",
       "      <td>0</td>\n",
       "      <td>0</td>\n",
       "      <td>0</td>\n",
       "    </tr>\n",
       "    <tr>\n",
       "      <th>3</th>\n",
       "      <td>0</td>\n",
       "      <td>0</td>\n",
       "      <td>0</td>\n",
       "      <td>0</td>\n",
       "      <td>0</td>\n",
       "      <td>0</td>\n",
       "      <td>0</td>\n",
       "      <td>0</td>\n",
       "      <td>0</td>\n",
       "      <td>0</td>\n",
       "      <td>...</td>\n",
       "      <td>0</td>\n",
       "      <td>0</td>\n",
       "      <td>0</td>\n",
       "      <td>0</td>\n",
       "      <td>0</td>\n",
       "      <td>0</td>\n",
       "      <td>0</td>\n",
       "      <td>0</td>\n",
       "      <td>0</td>\n",
       "      <td>0</td>\n",
       "    </tr>\n",
       "    <tr>\n",
       "      <th>4</th>\n",
       "      <td>0</td>\n",
       "      <td>0</td>\n",
       "      <td>0</td>\n",
       "      <td>0</td>\n",
       "      <td>0</td>\n",
       "      <td>0</td>\n",
       "      <td>0</td>\n",
       "      <td>0</td>\n",
       "      <td>0</td>\n",
       "      <td>0</td>\n",
       "      <td>...</td>\n",
       "      <td>0</td>\n",
       "      <td>0</td>\n",
       "      <td>0</td>\n",
       "      <td>0</td>\n",
       "      <td>0</td>\n",
       "      <td>0</td>\n",
       "      <td>0</td>\n",
       "      <td>0</td>\n",
       "      <td>0</td>\n",
       "      <td>0</td>\n",
       "    </tr>\n",
       "    <tr>\n",
       "      <th>...</th>\n",
       "      <td>...</td>\n",
       "      <td>...</td>\n",
       "      <td>...</td>\n",
       "      <td>...</td>\n",
       "      <td>...</td>\n",
       "      <td>...</td>\n",
       "      <td>...</td>\n",
       "      <td>...</td>\n",
       "      <td>...</td>\n",
       "      <td>...</td>\n",
       "      <td>...</td>\n",
       "      <td>...</td>\n",
       "      <td>...</td>\n",
       "      <td>...</td>\n",
       "      <td>...</td>\n",
       "      <td>...</td>\n",
       "      <td>...</td>\n",
       "      <td>...</td>\n",
       "      <td>...</td>\n",
       "      <td>...</td>\n",
       "      <td>...</td>\n",
       "    </tr>\n",
       "    <tr>\n",
       "      <th>2406</th>\n",
       "      <td>0</td>\n",
       "      <td>0</td>\n",
       "      <td>0</td>\n",
       "      <td>0</td>\n",
       "      <td>0</td>\n",
       "      <td>0</td>\n",
       "      <td>0</td>\n",
       "      <td>0</td>\n",
       "      <td>0</td>\n",
       "      <td>0</td>\n",
       "      <td>...</td>\n",
       "      <td>0</td>\n",
       "      <td>0</td>\n",
       "      <td>0</td>\n",
       "      <td>0</td>\n",
       "      <td>0</td>\n",
       "      <td>0</td>\n",
       "      <td>0</td>\n",
       "      <td>0</td>\n",
       "      <td>0</td>\n",
       "      <td>0</td>\n",
       "    </tr>\n",
       "    <tr>\n",
       "      <th>2407</th>\n",
       "      <td>0</td>\n",
       "      <td>0</td>\n",
       "      <td>0</td>\n",
       "      <td>0</td>\n",
       "      <td>0</td>\n",
       "      <td>0</td>\n",
       "      <td>0</td>\n",
       "      <td>0</td>\n",
       "      <td>0</td>\n",
       "      <td>0</td>\n",
       "      <td>...</td>\n",
       "      <td>0</td>\n",
       "      <td>0</td>\n",
       "      <td>0</td>\n",
       "      <td>0</td>\n",
       "      <td>0</td>\n",
       "      <td>0</td>\n",
       "      <td>0</td>\n",
       "      <td>0</td>\n",
       "      <td>0</td>\n",
       "      <td>0</td>\n",
       "    </tr>\n",
       "    <tr>\n",
       "      <th>2408</th>\n",
       "      <td>0</td>\n",
       "      <td>0</td>\n",
       "      <td>0</td>\n",
       "      <td>0</td>\n",
       "      <td>0</td>\n",
       "      <td>0</td>\n",
       "      <td>0</td>\n",
       "      <td>0</td>\n",
       "      <td>0</td>\n",
       "      <td>0</td>\n",
       "      <td>...</td>\n",
       "      <td>0</td>\n",
       "      <td>0</td>\n",
       "      <td>0</td>\n",
       "      <td>0</td>\n",
       "      <td>0</td>\n",
       "      <td>0</td>\n",
       "      <td>0</td>\n",
       "      <td>0</td>\n",
       "      <td>0</td>\n",
       "      <td>0</td>\n",
       "    </tr>\n",
       "    <tr>\n",
       "      <th>2409</th>\n",
       "      <td>0</td>\n",
       "      <td>0</td>\n",
       "      <td>0</td>\n",
       "      <td>0</td>\n",
       "      <td>0</td>\n",
       "      <td>0</td>\n",
       "      <td>0</td>\n",
       "      <td>0</td>\n",
       "      <td>0</td>\n",
       "      <td>0</td>\n",
       "      <td>...</td>\n",
       "      <td>0</td>\n",
       "      <td>0</td>\n",
       "      <td>0</td>\n",
       "      <td>0</td>\n",
       "      <td>0</td>\n",
       "      <td>0</td>\n",
       "      <td>0</td>\n",
       "      <td>0</td>\n",
       "      <td>0</td>\n",
       "      <td>0</td>\n",
       "    </tr>\n",
       "    <tr>\n",
       "      <th>2410</th>\n",
       "      <td>0</td>\n",
       "      <td>0</td>\n",
       "      <td>0</td>\n",
       "      <td>0</td>\n",
       "      <td>0</td>\n",
       "      <td>0</td>\n",
       "      <td>0</td>\n",
       "      <td>0</td>\n",
       "      <td>0</td>\n",
       "      <td>0</td>\n",
       "      <td>...</td>\n",
       "      <td>0</td>\n",
       "      <td>0</td>\n",
       "      <td>0</td>\n",
       "      <td>0</td>\n",
       "      <td>0</td>\n",
       "      <td>0</td>\n",
       "      <td>0</td>\n",
       "      <td>0</td>\n",
       "      <td>0</td>\n",
       "      <td>0</td>\n",
       "    </tr>\n",
       "  </tbody>\n",
       "</table>\n",
       "<p>2411 rows × 12943 columns</p>\n",
       "</div>"
      ],
      "text/plain": [
       "      00  000  000km  00am  0396  05  05am  07  10  100  ...  zoom  zoomed  \\\n",
       "0      0    0      0     0     0   0     0   0   0    0  ...     0       0   \n",
       "1      0    0      0     0     0   0     0   0   0    0  ...     0       0   \n",
       "2      0    0      0     0     0   0     0   0   0    0  ...     0       0   \n",
       "3      0    0      0     0     0   0     0   0   0    0  ...     0       0   \n",
       "4      0    0      0     0     0   0     0   0   0    0  ...     0       0   \n",
       "...   ..  ...    ...   ...   ...  ..   ...  ..  ..  ...  ...   ...     ...   \n",
       "2406   0    0      0     0     0   0     0   0   0    0  ...     0       0   \n",
       "2407   0    0      0     0     0   0     0   0   0    0  ...     0       0   \n",
       "2408   0    0      0     0     0   0     0   0   0    0  ...     0       0   \n",
       "2409   0    0      0     0     0   0     0   0   0    0  ...     0       0   \n",
       "2410   0    0      0     0     0   0     0   0   0    0  ...     0       0   \n",
       "\n",
       "      zu  zuerst  zum  zurich  zurückbringen  zusammen  über  übereinstimmt  \n",
       "0      0       0    0       0              0         0     0              0  \n",
       "1      0       0    0       0              0         0     0              0  \n",
       "2      0       0    0       0              0         0     0              0  \n",
       "3      0       0    0       0              0         0     0              0  \n",
       "4      0       0    0       0              0         0     0              0  \n",
       "...   ..     ...  ...     ...            ...       ...   ...            ...  \n",
       "2406   0       0    0       0              0         0     0              0  \n",
       "2407   0       0    0       0              0         0     0              0  \n",
       "2408   0       0    0       0              0         0     0              0  \n",
       "2409   0       0    0       0              0         0     0              0  \n",
       "2410   0       0    0       0              0         0     0              0  \n",
       "\n",
       "[2411 rows x 12943 columns]"
      ]
     },
     "execution_count": 943,
     "metadata": {},
     "output_type": "execute_result"
    }
   ],
   "source": [
    "selftext_dataframe"
   ]
  },
  {
   "cell_type": "code",
   "execution_count": 944,
   "id": "5eadd110",
   "metadata": {},
   "outputs": [
    {
     "data": {
      "text/plain": [
       "just            2649\n",
       "like            2554\n",
       "don             1872\n",
       "know            1788\n",
       "time            1645\n",
       "want            1520\n",
       "said            1504\n",
       "feel            1483\n",
       "really          1455\n",
       "ve              1286\n",
       "told            1129\n",
       "relationship    1098\n",
       "didn             964\n",
       "things           948\n",
       "think            875\n",
       "friends          820\n",
       "got              809\n",
       "years            751\n",
       "going            725\n",
       "day              708\n",
       "dtype: int64"
      ]
     },
     "execution_count": 944,
     "metadata": {},
     "output_type": "execute_result"
    }
   ],
   "source": [
    "# Top 25 words\n",
    "selftext_dataframe.sum(axis=0).sort_values(ascending=False)[:20]"
   ]
  },
  {
   "cell_type": "code",
   "execution_count": null,
   "id": "2f603183",
   "metadata": {},
   "outputs": [],
   "source": [
    "selftext_dataframe.sum(axis=0).groupby('word').sort_values(ascending=False)[:20]"
   ]
  },
  {
   "cell_type": "code",
   "execution_count": 945,
   "id": "f2943821",
   "metadata": {},
   "outputs": [],
   "source": [
    "fifteen_words = selftext_dataframe.sum(axis=0).sort_values(ascending=False)[:15]"
   ]
  },
  {
   "cell_type": "code",
   "execution_count": 946,
   "id": "95ac7640",
   "metadata": {},
   "outputs": [
    {
     "data": {
      "image/png": "[encoded data removed]",
      "text/plain": [
       "<Figure size 864x432 with 1 Axes>"
      ]
     },
     "metadata": {
      "needs_background": "light"
     },
     "output_type": "display_data"
    }
   ],
   "source": [
    "plt.title('Frequency Distribution of the Top 15 WORDS')\n",
    "plt.xlabel('Count')\n",
    "fifteen_words.plot(kind='barh', figsize=(12, 6), color='b');"
   ]
  },
  {
   "cell_type": "code",
   "execution_count": 988,
   "id": "64125517",
   "metadata": {},
   "outputs": [],
   "source": [
    "last_fifteen_words = selftext_dataframe.sum(axis=0).sort_values(ascending=True)[:15]"
   ]
  },
  {
   "cell_type": "code",
   "execution_count": 989,
   "id": "9c35aa67",
   "metadata": {},
   "outputs": [
    {
     "data": {
      "text/plain": [
       "übereinstimmt    1\n",
       "evolve           1\n",
       "evils            1\n",
       "evie             1\n",
       "evidently        1\n",
       "eviction         1\n",
       "evicted          1\n",
       "everytinebi      1\n",
       "niceguy          1\n",
       "everythihng      1\n",
       "ud               1\n",
       "ufo              1\n",
       "eversince        1\n",
       "everlasting      1\n",
       "stinging         1\n",
       "dtype: int64"
      ]
     },
     "execution_count": 989,
     "metadata": {},
     "output_type": "execute_result"
    }
   ],
   "source": [
    "last_fifteen_word\n",
    "# These are 15 words used the fewest times. Could be due to punctuation."
   ]
  },
  {
   "cell_type": "markdown",
   "id": "24e83e7e",
   "metadata": {},
   "source": [
    "### MODELING"
   ]
  },
  {
   "cell_type": "markdown",
   "id": "28417230",
   "metadata": {},
   "source": [
    "Following code inspired by NLP WalkThrough lesson\n",
    "##### Create X and Y "
   ]
  },
  {
   "cell_type": "code",
   "execution_count": 949,
   "id": "c0ee47b2",
   "metadata": {},
   "outputs": [],
   "source": [
    "X = new_df['selftext']\n",
    "y = new_df['subreddit']"
   ]
  },
  {
   "cell_type": "markdown",
   "id": "80ba1795",
   "metadata": {},
   "source": [
    "###### Baseline Accuracy"
   ]
  },
  {
   "cell_type": "code",
   "execution_count": 950,
   "id": "2034367c",
   "metadata": {},
   "outputs": [
    {
     "data": {
      "text/plain": [
       "1    0.542513\n",
       "0    0.457487\n",
       "Name: subreddit, dtype: float64"
      ]
     },
     "execution_count": 950,
     "metadata": {},
     "output_type": "execute_result"
    }
   ],
   "source": [
    "y.value_counts(normalize=True)\n",
    "\n",
    "# The model I create should predict better than this!"
   ]
  },
  {
   "cell_type": "markdown",
   "id": "357afdf2",
   "metadata": {},
   "source": [
    "###### Train/Test Split"
   ]
  },
  {
   "cell_type": "code",
   "execution_count": 951,
   "id": "89985137",
   "metadata": {},
   "outputs": [],
   "source": [
    "X_train, X_test, y_train, y_test = train_test_split(X, y, random_state=42, stratify=y)"
   ]
  },
  {
   "cell_type": "markdown",
   "id": "82ed7ea4",
   "metadata": {},
   "source": [
    "### Logistic Regression"
   ]
  },
  {
   "cell_type": "code",
   "execution_count": 952,
   "id": "aa4a725f",
   "metadata": {},
   "outputs": [],
   "source": [
    "pipe = Pipeline([\n",
    "    ('cv', CountVectorizer()),\n",
    "    ('model', LogisticRegression())\n",
    "])\n",
    "\n",
    "# LOG: look for top coef of words"
   ]
  },
  {
   "cell_type": "code",
   "execution_count": 953,
   "id": "055fbdd9",
   "metadata": {},
   "outputs": [
    {
     "name": "stdout",
     "output_type": "stream",
     "text": [
      "0.9596271866056533\n"
     ]
    },
    {
     "data": {
      "text/plain": [
       "{'cv__max_df': 0.65, 'cv__min_df': 5, 'cv__stop_words': None}"
      ]
     },
     "execution_count": 953,
     "metadata": {},
     "output_type": "execute_result"
    }
   ],
   "source": [
    "params = {\n",
    "    'cv__stop_words': [None, 'english'],\n",
    "    'cv__min_df': [1, 3, 5],\n",
    "    'cv__max_df': [.6, .65, .7, .75]\n",
    "}\n",
    "# If a word is used more than 65% of the time, then we are getting rid of it.  \n",
    "gs = GridSearchCV(pipe, param_grid=params)\n",
    "gs.fit(X_train, y_train)\n",
    "print(gs.best_score_) # <- cross val score of the best set of parameters\n",
    "gs.best_params_"
   ]
  },
  {
   "cell_type": "code",
   "execution_count": 954,
   "id": "bb2db7a5",
   "metadata": {},
   "outputs": [
    {
     "data": {
      "image/png": "[encoded data removed]",
      "text/plain": [
       "<Figure size 432x288 with 2 Axes>"
      ]
     },
     "metadata": {
      "needs_background": "light"
     },
     "output_type": "display_data"
    }
   ],
   "source": [
    "plot_confusion_matrix(gs, X_test, y_test, display_labels=['Jokes', 'relationship_advice']);\n",
    "\n",
    "# 6 false positives \n",
    "# 28 false negatives "
   ]
  },
  {
   "cell_type": "code",
   "execution_count": 955,
   "id": "2e319a07",
   "metadata": {},
   "outputs": [],
   "source": [
    "preds = gs.predict(X_test)"
   ]
  },
  {
   "cell_type": "code",
   "execution_count": 956,
   "id": "5a509db1",
   "metadata": {},
   "outputs": [],
   "source": [
    "# Code inspired by Aaron O'Neal\n",
    "tn1, fp1, fn1, tp1 = confusion_matrix(y_test, preds).flatten()"
   ]
  },
  {
   "cell_type": "code",
   "execution_count": 957,
   "id": "b3fe4f18",
   "metadata": {},
   "outputs": [
    {
     "data": {
      "text/plain": [
       "0.9782608695652174"
      ]
     },
     "execution_count": 957,
     "metadata": {},
     "output_type": "execute_result"
    }
   ],
   "source": [
    "# Specificity: How good was the model for predicting Jokes? True negative rate\n",
    "tn1 / (tn1 + fp1)"
   ]
  },
  {
   "cell_type": "code",
   "execution_count": 958,
   "id": "31c9ac9a",
   "metadata": {},
   "outputs": [
    {
     "data": {
      "text/plain": [
       "0.9143730886850153"
      ]
     },
     "execution_count": 958,
     "metadata": {},
     "output_type": "execute_result"
    }
   ],
   "source": [
    "# Sensitivity: How good was the model for predicting relationship_advice? True positive rate, recall\n",
    "tp1 / (tp1 + fn1)"
   ]
  },
  {
   "cell_type": "markdown",
   "id": "873dbfd8",
   "metadata": {},
   "source": [
    "This model is better at predicting jokes, rather than relationship_advice. "
   ]
  },
  {
   "cell_type": "markdown",
   "id": "d640b13a",
   "metadata": {},
   "source": [
    "##### What's getting misclassified and why?!"
   ]
  },
  {
   "cell_type": "code",
   "execution_count": 960,
   "id": "6c14beb3",
   "metadata": {},
   "outputs": [
    {
     "data": {
      "text/plain": [
       "False    575\n",
       "True      28\n",
       "Name: subreddit, dtype: int64"
      ]
     },
     "execution_count": 960,
     "metadata": {},
     "output_type": "execute_result"
    }
   ],
   "source": [
    "((y_test != preds) & (preds == 0)).value_counts()"
   ]
  },
  {
   "cell_type": "code",
   "execution_count": 961,
   "id": "f0be8feb",
   "metadata": {},
   "outputs": [
    {
     "data": {
      "text/plain": [
       "2049                                                                                                                                                                                                                                                                                        so im in a relationship and i talked to other people on omegle is it cheating the guilt is really hurting me pls help guys.\n",
       "2007                                                                                                                                                                                              So my gf took a photo down if us while she was in the shower and forgot to put it back. I found it on the toilet. I confronted her about it and she said she was looking at her tan on that side. Is this believable?\n",
       "1768                                                                                                                                                                                                                                                                             Men how like to make sexual jokes, always looking at women their buts or boops and have perverted idea's. Do you find them attractive?\n",
       "2358    This a**hole is bullying my sister and I figure the only way to hit him where it hurts is by getting his account suspended. He’s totally vain and all he does is post on his Instagram. It would mean a lot of I could get you guys to report his account for spam/bullying whatever. I just need it to stop so she feels better. I’ll avoid getting in trouble by posting his account name here but please ...\n",
       "1815                                                                                                                                                                                                                                                                                                                                      We are really serious but people judge us with even trying to listen to us :(\n",
       "Name: selftext, dtype: object"
      ]
     },
     "execution_count": 961,
     "metadata": {},
     "output_type": "execute_result"
    }
   ],
   "source": [
    "# Find where this is true \n",
    "X_test[(y_test != preds) & (preds == 0)].head()\n",
    "# This is where my model predicted jokes when it was actually relationship advice. \n",
    "# Jokes: 0, Relationship_advice: 1"
   ]
  },
  {
   "cell_type": "markdown",
   "id": "3602f317",
   "metadata": {},
   "source": [
    "The relationship posts seem to be longer in length and word count, while this one is on the shorter side. "
   ]
  },
  {
   "cell_type": "markdown",
   "id": "1188e407",
   "metadata": {},
   "source": [
    "### Random Forest"
   ]
  },
  {
   "cell_type": "code",
   "execution_count": 962,
   "id": "4c90c9e6",
   "metadata": {},
   "outputs": [],
   "source": [
    "pipe_rf = Pipeline([\n",
    "    ('cv', CountVectorizer()),\n",
    "    ('rf', RandomForestClassifier())\n",
    "])"
   ]
  },
  {
   "cell_type": "code",
   "execution_count": 963,
   "id": "abea8b5a",
   "metadata": {},
   "outputs": [],
   "source": [
    "params_rf = {\n",
    "    'cv__stop_words': [None, 'english'],\n",
    "    'cv__min_df': [1, 3, 5],\n",
    "    'cv__max_df': [.6, .65, .7, .75]\n",
    "}\n",
    "# If a word is used more than .60% of the time, then we are getting rid of it.  \n",
    "# Model prefers english stop words!"
   ]
  },
  {
   "cell_type": "code",
   "execution_count": 964,
   "id": "a5b30a2d",
   "metadata": {},
   "outputs": [
    {
     "name": "stdout",
     "output_type": "stream",
     "text": [
      "0.9352917769853537\n"
     ]
    },
    {
     "data": {
      "text/plain": [
       "{'cv__max_df': 0.6, 'cv__min_df': 3, 'cv__stop_words': 'english'}"
      ]
     },
     "execution_count": 964,
     "metadata": {},
     "output_type": "execute_result"
    }
   ],
   "source": [
    "gs_rf = GridSearchCV(pipe_rf, param_grid=params_rf)\n",
    "gs_rf.fit(X_train, y_train)\n",
    "print(gs_rf.best_score_) # <- cross val score of the best set of parameters\n",
    "gs_rf.best_params_"
   ]
  },
  {
   "cell_type": "code",
   "execution_count": 965,
   "id": "618a49a9",
   "metadata": {},
   "outputs": [
    {
     "data": {
      "image/png": "[encoded data removed]",
      "text/plain": [
       "<Figure size 432x288 with 2 Axes>"
      ]
     },
     "metadata": {
      "needs_background": "light"
     },
     "output_type": "display_data"
    }
   ],
   "source": [
    "plot_confusion_matrix(gs_rf, X_test, y_test, display_labels=['Jokes', 'relationship_advice']);"
   ]
  },
  {
   "cell_type": "code",
   "execution_count": 966,
   "id": "1c9db6a7",
   "metadata": {},
   "outputs": [],
   "source": [
    "preds_rf = gs_rf.predict(X_test)"
   ]
  },
  {
   "cell_type": "code",
   "execution_count": 967,
   "id": "50009c82",
   "metadata": {},
   "outputs": [],
   "source": [
    "tn2, fp2, fn2, tp2 = confusion_matrix(y_test, preds_rf).flatten()"
   ]
  },
  {
   "cell_type": "code",
   "execution_count": 968,
   "id": "1faee240",
   "metadata": {},
   "outputs": [
    {
     "data": {
      "text/plain": [
       "0.9601449275362319"
      ]
     },
     "execution_count": 968,
     "metadata": {},
     "output_type": "execute_result"
    }
   ],
   "source": [
    "# Specificity: How good was the model for predicting Jokes? \n",
    "tn2 / (tn2 + fp2)"
   ]
  },
  {
   "cell_type": "code",
   "execution_count": 969,
   "id": "b1483550",
   "metadata": {},
   "outputs": [
    {
     "data": {
      "text/plain": [
       "0.8899082568807339"
      ]
     },
     "execution_count": 969,
     "metadata": {},
     "output_type": "execute_result"
    }
   ],
   "source": [
    "# Sensitivity: How good was the model for predicting relationship_advice? \n",
    "tp2 / (tp2 + fn2)"
   ]
  },
  {
   "cell_type": "markdown",
   "id": "db3d30f0",
   "metadata": {},
   "source": [
    "This model is also better at predicting jokes, rather than relationship_advice. "
   ]
  },
  {
   "cell_type": "markdown",
   "id": "b26b19f4",
   "metadata": {},
   "source": [
    "###### What's getting misclassified and why?!"
   ]
  },
  {
   "cell_type": "code",
   "execution_count": 971,
   "id": "bcaf2604",
   "metadata": {},
   "outputs": [
    {
     "data": {
      "text/plain": [
       "False    567\n",
       "True      36\n",
       "Name: subreddit, dtype: int64"
      ]
     },
     "execution_count": 971,
     "metadata": {},
     "output_type": "execute_result"
    }
   ],
   "source": [
    "((y_test != preds_rf) & (preds_rf == 0)).value_counts()"
   ]
  },
  {
   "cell_type": "code",
   "execution_count": 972,
   "id": "834570c1",
   "metadata": {},
   "outputs": [
    {
     "data": {
      "text/plain": [
       "1413    My girlfriend has a bestfreind \\nWho is basically a very confident guy and he has almost every thing in him which she likes \\nAnd I am not the same and i have a very low self esteem \\nAnd people take me for granted and no one gives a flying fuck about me \\nI am not even physically attractive\\nSo i am jealous of her freind and i degrade and compare myself to him everytime\\nWhat should I do to m...\n",
       "2007                                                                                                                                                                                              So my gf took a photo down if us while she was in the shower and forgot to put it back. I found it on the toilet. I confronted her about it and she said she was looking at her tan on that side. Is this believable?\n",
       "1250                                                                                         I’m a bisexual who’s been one for over 10 years now. I’ve met another woman who used the classic “My grandma died, she was my rock :-(“ excuse and ghosted lol.\\n\\nI’m not kidding, but over my dating life, I’ve met over seven people who used the same excuse to ghost, both men and women.\\n\\nIs this a common excuse?\n",
       "1768                                                                                                                                                                                                                                                                             Men how like to make sexual jokes, always looking at women their buts or boops and have perverted idea's. Do you find them attractive?\n",
       "2358    This a**hole is bullying my sister and I figure the only way to hit him where it hurts is by getting his account suspended. He’s totally vain and all he does is post on his Instagram. It would mean a lot of I could get you guys to report his account for spam/bullying whatever. I just need it to stop so she feels better. I’ll avoid getting in trouble by posting his account name here but please ...\n",
       "Name: selftext, dtype: object"
      ]
     },
     "execution_count": 972,
     "metadata": {},
     "output_type": "execute_result"
    }
   ],
   "source": [
    "X_test[(y_test != preds_rf) & (preds_rf == 0)].head()"
   ]
  },
  {
   "cell_type": "markdown",
   "id": "349f5676",
   "metadata": {},
   "source": [
    "Profanity or words like \"sex,\" \"jokes,\" \"toilet,\" \"poop,\" and \"fart,\" probably come up very often when telling jokes and speaking about relationships. \n",
    "ie; 1768: Men how like to make sexual jokes, always looking at women their buts or boops and have perverted idea's. Do you find them attractive?\n",
    "\n",
    "Word count and length of posts are very telling of which subreddit a post belongs. The word count for posts on the Jokes subreddit, on average, are 8 times shorted than those of relationship advice posts. All of the misclassified posts above were predicted as jokes when they were in fact posts from the relationship advice subreddit. This is probably because these posts not only contain the factors as mentioned above, but also because they are shorter in length much like the joke posts. "
   ]
  },
  {
   "cell_type": "code",
   "execution_count": null,
   "id": "9c6e636f",
   "metadata": {},
   "outputs": [],
   "source": []
  }
 ],
 "metadata": {
  "kernelspec": {
   "display_name": "Python 3",
   "language": "python",
   "name": "python3"
  },
  "language_info": {
   "codemirror_mode": {
    "name": "ipython",
    "version": 3
   },
   "file_extension": ".py",
   "mimetype": "text/x-python",
   "name": "python",
   "nbconvert_exporter": "python",
   "pygments_lexer": "ipython3",
   "version": "3.8.8"
  }
 },
 "nbformat": 4,
 "nbformat_minor": 5
}
