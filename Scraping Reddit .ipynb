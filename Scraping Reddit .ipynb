{
 "cells": [
  {
   "cell_type": "markdown",
   "id": "8f452c9d",
   "metadata": {},
   "source": [
    "### IMPORTS"
   ]
  },
  {
   "cell_type": "code",
   "execution_count": 3,
   "id": "246c2125",
   "metadata": {},
   "outputs": [],
   "source": [
    "import pandas as pd\n",
    "import numpy as np\n",
    "import requests\n",
    "import time"
   ]
  },
  {
   "cell_type": "markdown",
   "id": "0422238b",
   "metadata": {},
   "source": [
    "### EXAMPLE CODE OF SINGLE SCRAPE"
   ]
  },
  {
   "cell_type": "code",
   "execution_count": 4,
   "id": "3054db05",
   "metadata": {},
   "outputs": [],
   "source": [
    "url = 'https://api.pushshift.io/reddit/search/submission'\n",
    "#https://api.pushshift.io/reddit/search/submission?subreddit=Jokes"
   ]
  },
  {
   "cell_type": "markdown",
   "id": "4a5fb1c0",
   "metadata": {},
   "source": [
    "Code to get data from Reddit subredit: Jokes, to be used later in a function/for loop."
   ]
  },
  {
   "cell_type": "code",
   "execution_count": 5,
   "id": "2d21790c",
   "metadata": {},
   "outputs": [],
   "source": [
    "params_jokes = {\n",
    "     'subreddit': 'Jokes',\n",
    "     'size': 100,\n",
    " }"
   ]
  },
  {
   "cell_type": "code",
   "execution_count": 6,
   "id": "5c1fff3e",
   "metadata": {},
   "outputs": [],
   "source": [
    "res_jokes = requests.get(url, params_jokes)"
   ]
  },
  {
   "cell_type": "code",
   "execution_count": 7,
   "id": "2532c63d",
   "metadata": {},
   "outputs": [
    {
     "data": {
      "text/plain": [
       "200"
      ]
     },
     "execution_count": 7,
     "metadata": {},
     "output_type": "execute_result"
    }
   ],
   "source": [
    "res_jokes.status_code"
   ]
  },
  {
   "cell_type": "code",
   "execution_count": 8,
   "id": "f9f71ca3",
   "metadata": {},
   "outputs": [],
   "source": [
    "data_jokes = res_jokes.json()"
   ]
  },
  {
   "cell_type": "code",
   "execution_count": 9,
   "id": "24a415c6",
   "metadata": {},
   "outputs": [],
   "source": [
    "jokes_posts = data_jokes['data']"
   ]
  },
  {
   "cell_type": "code",
   "execution_count": 10,
   "id": "93cb10fc",
   "metadata": {},
   "outputs": [
    {
     "data": {
      "text/plain": [
       "100"
      ]
     },
     "execution_count": 10,
     "metadata": {},
     "output_type": "execute_result"
    }
   ],
   "source": [
    "len(jokes_posts)"
   ]
  },
  {
   "cell_type": "code",
   "execution_count": 11,
   "id": "a16d06d7",
   "metadata": {},
   "outputs": [],
   "source": [
    "jokes_df = pd.DataFrame(jokes_posts)"
   ]
  },
  {
   "cell_type": "code",
   "execution_count": 12,
   "id": "e38d323c",
   "metadata": {},
   "outputs": [
    {
     "data": {
      "text/plain": [
       "Index(['all_awardings', 'allow_live_comments', 'author',\n",
       "       'author_flair_css_class', 'author_flair_richtext', 'author_flair_text',\n",
       "       'author_flair_type', 'author_fullname', 'author_is_blocked',\n",
       "       'author_patreon_flair', 'author_premium', 'awarders', 'can_mod_post',\n",
       "       'contest_mode', 'created_utc', 'domain', 'full_link', 'gildings', 'id',\n",
       "       'is_created_from_ads_ui', 'is_crosspostable', 'is_meta',\n",
       "       'is_original_content', 'is_reddit_media_domain', 'is_robot_indexable',\n",
       "       'is_self', 'is_video', 'link_flair_background_color',\n",
       "       'link_flair_richtext', 'link_flair_text_color', 'link_flair_type',\n",
       "       'locked', 'media_only', 'no_follow', 'num_comments', 'num_crossposts',\n",
       "       'over_18', 'parent_whitelist_status', 'permalink', 'pinned', 'pwls',\n",
       "       'retrieved_on', 'score', 'selftext', 'send_replies', 'spoiler',\n",
       "       'stickied', 'subreddit', 'subreddit_id', 'subreddit_subscribers',\n",
       "       'subreddit_type', 'thumbnail', 'title', 'total_awards_received',\n",
       "       'treatment_tags', 'upvote_ratio', 'url', 'whitelist_status', 'wls',\n",
       "       'removed_by_category', 'link_flair_css_class', 'link_flair_text',\n",
       "       'author_flair_background_color', 'author_flair_text_color', 'banned_by',\n",
       "       'post_hint', 'preview'],\n",
       "      dtype='object')"
      ]
     },
     "execution_count": 12,
     "metadata": {},
     "output_type": "execute_result"
    }
   ],
   "source": [
    "jokes_df.columns"
   ]
  },
  {
   "cell_type": "code",
   "execution_count": 13,
   "id": "dc88bddf",
   "metadata": {},
   "outputs": [
    {
     "data": {
      "text/html": [
       "<div>\n",
       "<style scoped>\n",
       "    .dataframe tbody tr th:only-of-type {\n",
       "        vertical-align: middle;\n",
       "    }\n",
       "\n",
       "    .dataframe tbody tr th {\n",
       "        vertical-align: top;\n",
       "    }\n",
       "\n",
       "    .dataframe thead th {\n",
       "        text-align: right;\n",
       "    }\n",
       "</style>\n",
       "<table border=\"1\" class=\"dataframe\">\n",
       "  <thead>\n",
       "    <tr style=\"text-align: right;\">\n",
       "      <th></th>\n",
       "      <th>subreddit</th>\n",
       "      <th>selftext</th>\n",
       "      <th>title</th>\n",
       "      <th>created_utc</th>\n",
       "    </tr>\n",
       "  </thead>\n",
       "  <tbody>\n",
       "    <tr>\n",
       "      <th>0</th>\n",
       "      <td>Jokes</td>\n",
       "      <td>They have an Elon Musk.</td>\n",
       "      <td>Teslas do not have \"New Car\" smell...</td>\n",
       "      <td>1637339505</td>\n",
       "    </tr>\n",
       "    <tr>\n",
       "      <th>1</th>\n",
       "      <td>Jokes</td>\n",
       "      <td>[removed]</td>\n",
       "      <td>What do you call guys that fire blanks?</td>\n",
       "      <td>1637339350</td>\n",
       "    </tr>\n",
       "    <tr>\n",
       "      <th>2</th>\n",
       "      <td>Jokes</td>\n",
       "      <td>[removed]</td>\n",
       "      <td>Knock knock</td>\n",
       "      <td>1637339102</td>\n",
       "    </tr>\n",
       "    <tr>\n",
       "      <th>3</th>\n",
       "      <td>Jokes</td>\n",
       "      <td>The story goes that Attila used to collect exo...</td>\n",
       "      <td>There's A Little-Known Legend About Attila The...</td>\n",
       "      <td>1637339100</td>\n",
       "    </tr>\n",
       "    <tr>\n",
       "      <th>4</th>\n",
       "      <td>Jokes</td>\n",
       "      <td>Santa Claus</td>\n",
       "      <td>what do you call Santa Claus when hes sleeping?</td>\n",
       "      <td>1637339049</td>\n",
       "    </tr>\n",
       "    <tr>\n",
       "      <th>5</th>\n",
       "      <td>Jokes</td>\n",
       "      <td>NaN</td>\n",
       "      <td>Why do we tell actors to break a leg?</td>\n",
       "      <td>1637339000</td>\n",
       "    </tr>\n",
       "    <tr>\n",
       "      <th>6</th>\n",
       "      <td>Jokes</td>\n",
       "      <td>[removed]</td>\n",
       "      <td>Coochycoo Pandas NFT || Preparing For Takeoff!!</td>\n",
       "      <td>1637338731</td>\n",
       "    </tr>\n",
       "    <tr>\n",
       "      <th>7</th>\n",
       "      <td>Jokes</td>\n",
       "      <td>[removed]</td>\n",
       "      <td>Why do we tell actors to break a leg?</td>\n",
       "      <td>1637338657</td>\n",
       "    </tr>\n",
       "    <tr>\n",
       "      <th>8</th>\n",
       "      <td>Jokes</td>\n",
       "      <td>Fred came home from college in tears.\\n\\n\"Mom,...</td>\n",
       "      <td>Am i adopted</td>\n",
       "      <td>1637338656</td>\n",
       "    </tr>\n",
       "    <tr>\n",
       "      <th>9</th>\n",
       "      <td>Jokes</td>\n",
       "      <td>[removed]</td>\n",
       "      <td>I have a friend who seldom eats roast beef bec...</td>\n",
       "      <td>1637338351</td>\n",
       "    </tr>\n",
       "    <tr>\n",
       "      <th>10</th>\n",
       "      <td>Jokes</td>\n",
       "      <td>Buddy and his wife Edna went to the state fair...</td>\n",
       "      <td>Fifty bucks is Fifty bucks</td>\n",
       "      <td>1637338298</td>\n",
       "    </tr>\n",
       "    <tr>\n",
       "      <th>11</th>\n",
       "      <td>Jokes</td>\n",
       "      <td>A new father was driving his wife and new-born...</td>\n",
       "      <td>From the local News</td>\n",
       "      <td>1637338290</td>\n",
       "    </tr>\n",
       "    <tr>\n",
       "      <th>12</th>\n",
       "      <td>Jokes</td>\n",
       "      <td>Well because his brain is damaged 😞</td>\n",
       "      <td>Why does acclaimed wife abuser Johnny Depp lov...</td>\n",
       "      <td>1637338249</td>\n",
       "    </tr>\n",
       "    <tr>\n",
       "      <th>13</th>\n",
       "      <td>Jokes</td>\n",
       "      <td>As is common for mcdonalds the ice cream machi...</td>\n",
       "      <td>As a mcdonald's worker I get a lot of idiots g...</td>\n",
       "      <td>1637338056</td>\n",
       "    </tr>\n",
       "    <tr>\n",
       "      <th>14</th>\n",
       "      <td>Jokes</td>\n",
       "      <td>A family of four mainly relying on their cattl...</td>\n",
       "      <td>Story of the dead cow and the horny witch.</td>\n",
       "      <td>1637337910</td>\n",
       "    </tr>\n",
       "    <tr>\n",
       "      <th>15</th>\n",
       "      <td>Jokes</td>\n",
       "      <td>They both spread for bread.\\n\\n&amp;amp;#x200B;\\n\\...</td>\n",
       "      <td>What does a stripper and peanut butter have in...</td>\n",
       "      <td>1637337592</td>\n",
       "    </tr>\n",
       "    <tr>\n",
       "      <th>16</th>\n",
       "      <td>Jokes</td>\n",
       "      <td>[removed]</td>\n",
       "      <td>Did you hear about the midget psychic on the r...</td>\n",
       "      <td>1637337452</td>\n",
       "    </tr>\n",
       "    <tr>\n",
       "      <th>17</th>\n",
       "      <td>Jokes</td>\n",
       "      <td>When she went to look for it she found a frog ...</td>\n",
       "      <td>A woman was out golfing and hit the ball deep ...</td>\n",
       "      <td>1637337231</td>\n",
       "    </tr>\n",
       "    <tr>\n",
       "      <th>18</th>\n",
       "      <td>Jokes</td>\n",
       "      <td>Just before the sentence is concluded his astu...</td>\n",
       "      <td>A trial for murder is being held and all the e...</td>\n",
       "      <td>1637337182</td>\n",
       "    </tr>\n",
       "    <tr>\n",
       "      <th>19</th>\n",
       "      <td>Jokes</td>\n",
       "      <td>If you ask how to start that kind of business,...</td>\n",
       "      <td>What is the biggest miss understanding in the ...</td>\n",
       "      <td>1637337051</td>\n",
       "    </tr>\n",
       "    <tr>\n",
       "      <th>20</th>\n",
       "      <td>Jokes</td>\n",
       "      <td>[removed]</td>\n",
       "      <td>Coochycoo Pandas NFT || Preparing For Takeoff!!</td>\n",
       "      <td>1637336522</td>\n",
       "    </tr>\n",
       "    <tr>\n",
       "      <th>21</th>\n",
       "      <td>Jokes</td>\n",
       "      <td>[removed]</td>\n",
       "      <td>\u001a The first ever \u001a Gaming and \u001a\u001a NFT $Elite Fo...</td>\n",
       "      <td>1637336467</td>\n",
       "    </tr>\n",
       "    <tr>\n",
       "      <th>22</th>\n",
       "      <td>Jokes</td>\n",
       "      <td>That mean's I talk down to people.</td>\n",
       "      <td>People keep telling me that I'm a condescendin...</td>\n",
       "      <td>1637336312</td>\n",
       "    </tr>\n",
       "    <tr>\n",
       "      <th>23</th>\n",
       "      <td>Jokes</td>\n",
       "      <td>They were a really vivid blue green color.  No...</td>\n",
       "      <td>So I guess there was this rancher who was grow...</td>\n",
       "      <td>1637336286</td>\n",
       "    </tr>\n",
       "    <tr>\n",
       "      <th>24</th>\n",
       "      <td>Jokes</td>\n",
       "      <td>Me: **looks at my bosses husband** hey look at...</td>\n",
       "      <td>My bosses husband still talks about this</td>\n",
       "      <td>1637335414</td>\n",
       "    </tr>\n",
       "  </tbody>\n",
       "</table>\n",
       "</div>"
      ],
      "text/plain": [
       "   subreddit                                           selftext  \\\n",
       "0      Jokes                            They have an Elon Musk.   \n",
       "1      Jokes                                          [removed]   \n",
       "2      Jokes                                          [removed]   \n",
       "3      Jokes  The story goes that Attila used to collect exo...   \n",
       "4      Jokes                                        Santa Claus   \n",
       "5      Jokes                                                NaN   \n",
       "6      Jokes                                          [removed]   \n",
       "7      Jokes                                          [removed]   \n",
       "8      Jokes  Fred came home from college in tears.\\n\\n\"Mom,...   \n",
       "9      Jokes                                          [removed]   \n",
       "10     Jokes  Buddy and his wife Edna went to the state fair...   \n",
       "11     Jokes  A new father was driving his wife and new-born...   \n",
       "12     Jokes                Well because his brain is damaged 😞   \n",
       "13     Jokes  As is common for mcdonalds the ice cream machi...   \n",
       "14     Jokes  A family of four mainly relying on their cattl...   \n",
       "15     Jokes  They both spread for bread.\\n\\n&amp;#x200B;\\n\\...   \n",
       "16     Jokes                                          [removed]   \n",
       "17     Jokes  When she went to look for it she found a frog ...   \n",
       "18     Jokes  Just before the sentence is concluded his astu...   \n",
       "19     Jokes  If you ask how to start that kind of business,...   \n",
       "20     Jokes                                          [removed]   \n",
       "21     Jokes                                          [removed]   \n",
       "22     Jokes                 That mean's I talk down to people.   \n",
       "23     Jokes  They were a really vivid blue green color.  No...   \n",
       "24     Jokes  Me: **looks at my bosses husband** hey look at...   \n",
       "\n",
       "                                                title  created_utc  \n",
       "0               Teslas do not have \"New Car\" smell...   1637339505  \n",
       "1             What do you call guys that fire blanks?   1637339350  \n",
       "2                                         Knock knock   1637339102  \n",
       "3   There's A Little-Known Legend About Attila The...   1637339100  \n",
       "4     what do you call Santa Claus when hes sleeping?   1637339049  \n",
       "5               Why do we tell actors to break a leg?   1637339000  \n",
       "6     Coochycoo Pandas NFT || Preparing For Takeoff!!   1637338731  \n",
       "7               Why do we tell actors to break a leg?   1637338657  \n",
       "8                                        Am i adopted   1637338656  \n",
       "9   I have a friend who seldom eats roast beef bec...   1637338351  \n",
       "10                         Fifty bucks is Fifty bucks   1637338298  \n",
       "11                                From the local News   1637338290  \n",
       "12  Why does acclaimed wife abuser Johnny Depp lov...   1637338249  \n",
       "13  As a mcdonald's worker I get a lot of idiots g...   1637338056  \n",
       "14         Story of the dead cow and the horny witch.   1637337910  \n",
       "15  What does a stripper and peanut butter have in...   1637337592  \n",
       "16  Did you hear about the midget psychic on the r...   1637337452  \n",
       "17  A woman was out golfing and hit the ball deep ...   1637337231  \n",
       "18  A trial for murder is being held and all the e...   1637337182  \n",
       "19  What is the biggest miss understanding in the ...   1637337051  \n",
       "20    Coochycoo Pandas NFT || Preparing For Takeoff!!   1637336522  \n",
       "21  \u001a The first ever \u001a Gaming and \u001a\u001a NFT $Elite Fo...   1637336467  \n",
       "22  People keep telling me that I'm a condescendin...   1637336312  \n",
       "23  So I guess there was this rancher who was grow...   1637336286  \n",
       "24           My bosses husband still talks about this   1637335414  "
      ]
     },
     "execution_count": 13,
     "metadata": {},
     "output_type": "execute_result"
    }
   ],
   "source": [
    "jokes_df[['subreddit','selftext','title', 'created_utc']].head(25)"
   ]
  },
  {
   "cell_type": "code",
   "execution_count": 16,
   "id": "30ca5a35",
   "metadata": {},
   "outputs": [],
   "source": [
    "last_time_jokes = jokes_df['created_utc'].values[-1]"
   ]
  },
  {
   "cell_type": "code",
   "execution_count": 18,
   "id": "6c47197e",
   "metadata": {},
   "outputs": [
    {
     "data": {
      "text/plain": [
       "{'subreddit': 'Jokes', 'size': 100, 'before': 1637314351}"
      ]
     },
     "execution_count": 18,
     "metadata": {},
     "output_type": "execute_result"
    }
   ],
   "source": [
    "params_jokes['before'] = last_time_jokes\n",
    "params_jokes"
   ]
  },
  {
   "cell_type": "markdown",
   "id": "dedaebe8",
   "metadata": {},
   "source": [
    "### CODE USED TO CREATE DATAFRAME"
   ]
  },
  {
   "cell_type": "markdown",
   "id": "59396c1b",
   "metadata": {},
   "source": [
    "A for loop for scraping Reddit multiple times for data on two Subreddits, concatenated into one dataframe. "
   ]
  },
  {
   "cell_type": "code",
   "execution_count": null,
   "id": "84a49e9c",
   "metadata": {},
   "outputs": [],
   "source": [
    "# Code inspired by API Lecture \n",
    "subreddits = ['Jokes', 'relationship_advice']\n",
    "dfs = []\n",
    "\n",
    "for subreddit in subreddits:\n",
    "    for i in range(15): \n",
    "            params = {\n",
    "                'subreddit': subreddit,\n",
    "                'size': 100\n",
    "            }\n",
    "        \n",
    "        \n",
    "            if i !=0:\n",
    "                params['before'] = last_time\n",
    "            \n",
    "            res = requests.get(url, params=params)\n",
    "        \n",
    "            res.json()\n",
    "        \n",
    "            posts = pd.DataFrame(res.json()['data'])\n",
    "        \n",
    "            posts[['subreddit','selftext','title', 'created_utc']]\n",
    "        \n",
    "            last_time = posts['created_utc'].values[-1]\n",
    "        \n",
    "            dfs.append(posts)\n",
    "        \n",
    "            time.sleep(3) # slow down between each loop\n",
    "            \n",
    "df = pd.concat(dfs)"
   ]
  },
  {
   "cell_type": "code",
   "execution_count": null,
   "id": "03474566",
   "metadata": {},
   "outputs": [],
   "source": [
    "df.to_csv('data/subreddits.csv', index=False)"
   ]
  }
 ],
 "metadata": {
  "kernelspec": {
   "display_name": "Python 3",
   "language": "python",
   "name": "python3"
  },
  "language_info": {
   "codemirror_mode": {
    "name": "ipython",
    "version": 3
   },
   "file_extension": ".py",
   "mimetype": "text/x-python",
   "name": "python",
   "nbconvert_exporter": "python",
   "pygments_lexer": "ipython3",
   "version": "3.8.8"
  }
 },
 "nbformat": 4,
 "nbformat_minor": 5
}
